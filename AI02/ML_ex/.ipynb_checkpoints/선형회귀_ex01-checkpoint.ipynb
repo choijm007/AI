{
 "cells": [
  {
   "cell_type": "code",
   "execution_count": 1,
   "id": "d9a8e76a",
   "metadata": {},
   "outputs": [],
   "source": [
    "import numpy as np\n",
    "x_data = np.array([1, 2, 3, 4, 5]).reshape(5,1) # 입력데이터 초기화 \n",
    "t_data = np.array([2, 3, 4, 5, 6]).reshape(5,1) # 정답데이터 초기화 \n",
    "W = np.random.rand(1,1) # 가중치 W 초기화\n",
    "b = np.random.rand(1) # 바이어스 b 초기화"
   ]
  },
  {
   "cell_type": "code",
   "execution_count": 2,
   "id": "f07699e7",
   "metadata": {},
   "outputs": [],
   "source": [
    "def loss_func(x, t):# 손실함수\n",
    "    y = np.dot(x,W) + b\n",
    "    return (np.sum((t - y)**2 )) / (len(x))\n"
   ]
  },
  {
   "cell_type": "code",
   "execution_count": 3,
   "id": "7471f3d8",
   "metadata": {},
   "outputs": [],
   "source": [
    "def numerical_derivative(f, x):\n",
    "    delta_x = 1e-4 # 0.0001\n",
    "    grad = np.zeros_like(x)\n",
    "    it = np.nditer(x, flags=['multi_index'], op_flags=['readwrite'])\n",
    "    while not it.finished:\n",
    "        idx = it.multi_index \n",
    "        tmp_val = x[idx]\n",
    "        \n",
    "        x[idx] = float(tmp_val) + delta_x\n",
    "        fx1 = f(x) # f(x+delta_x)\n",
    "        x[idx] = float(tmp_val) - delta_x \n",
    "        \n",
    "        fx2 = f(x) # f(x-delta_x)\n",
    "        grad[idx] = (fx1 - fx2) / (2*delta_x)\n",
    "        x[idx] = tmp_val\n",
    "        \n",
    "        it.iternext() \n",
    "    return grad\n"
   ]
  },
  {
   "cell_type": "code",
   "execution_count": 4,
   "id": "aace0a98",
   "metadata": {},
   "outputs": [
    {
     "name": "stdout",
     "output_type": "stream",
     "text": [
      "Initial loss value =  0.5348717671133905 Initial W =  [[0.98582527]] \n",
      " , b =  [0.31144969]\n",
      "step =  0 loss value =  0.34502130588511387 W = [[1.03025673]] b = [0.32340529]\n",
      "step =  300 loss value =  0.00960016883121822 W = [[1.06362623]] b = [0.77034536]\n",
      "step =  600 loss value =  0.0012187778731247811 W = [[1.02267039]] b = [0.91817273]\n",
      "step =  900 loss value =  0.00015472847718966124 W = [[1.00807759]] b = [0.97084447]\n",
      "step =  1200 loss value =  1.9643367492432882e-05 W = [[1.00287809]] b = [0.98961172]\n",
      "step =  1500 loss value =  2.4938000648056816e-06 W = [[1.00102548]] b = [0.99629859]\n",
      "step =  1800 loss value =  3.1659738410999803e-07 W = [[1.00036538]] b = [0.99868117]\n",
      "step =  2100 loss value =  4.0193239642624225e-08 W = [[1.00013019]] b = [0.99953009]\n",
      "step =  2400 loss value =  5.102684336808563e-09 W = [[1.00004639]] b = [0.99983257]\n",
      "step =  2700 loss value =  6.478051451480143e-10 W = [[1.00001653]] b = [0.99994034]\n",
      "step =  3000 loss value =  8.224132209531475e-11 W = [[1.00000589]] b = [0.99997874]\n",
      "step =  3300 loss value =  1.0440848008346104e-11 W = [[1.0000021]] b = [0.99999243]\n",
      "step =  3600 loss value =  1.3255052854287494e-12 W = [[1.00000075]] b = [0.9999973]\n",
      "step =  3900 loss value =  1.6827792719755813e-13 W = [[1.00000027]] b = [0.99999904]\n",
      "step =  4200 loss value =  2.136352150791467e-14 W = [[1.00000009]] b = [0.99999966]\n",
      "step =  4500 loss value =  2.712180153042217e-15 W = [[1.00000003]] b = [0.99999988]\n",
      "step =  4800 loss value =  3.4432155552469383e-16 W = [[1.00000001]] b = [0.99999996]\n",
      "step =  5100 loss value =  4.3712927422874156e-17 W = [[1.]] b = [0.99999998]\n",
      "step =  5400 loss value =  5.54952267890525e-18 W = [[1.]] b = [0.99999999]\n",
      "step =  5700 loss value =  7.045332427000822e-19 W = [[1.]] b = [1.]\n",
      "step =  6000 loss value =  8.944297405348642e-20 W = [[1.]] b = [1.]\n"
     ]
    }
   ],
   "source": [
    "learning_rate = 1e-2 # 학습율 α\n",
    "f = lambda x : loss_func(x_data, t_data)\n",
    "print(\"Initial loss value = \", loss_func(x_data, t_data), \"Initial W = \", W, \"\\n\", \", b = \", b ) \n",
    "for step in range(6001):\n",
    "    W -= learning_rate * numerical_derivative(f, W) \n",
    "    b -= learning_rate * numerical_derivative(f, b) \n",
    "    if (step % 300 == 0): # 추가부분\n",
    "        print(\"step = \", step, \"loss value = \", loss_func(x_data, t_data), \"W =\", W, \"b =\", b)"
   ]
  },
  {
   "cell_type": "code",
   "execution_count": 5,
   "id": "e7892b8c",
   "metadata": {},
   "outputs": [],
   "source": [
    "def predict(x): # 예측 함수\n",
    "    y = np.dot(x,W) + b \n",
    "    return y\n"
   ]
  },
  {
   "cell_type": "code",
   "execution_count": 6,
   "id": "9d873f17",
   "metadata": {},
   "outputs": [
    {
     "data": {
      "text/plain": [
       "array([44.00000001])"
      ]
     },
     "execution_count": 6,
     "metadata": {},
     "output_type": "execute_result"
    }
   ],
   "source": [
    "predict(np.array([43])) # 예축 테스트"
   ]
  },
  {
   "cell_type": "code",
   "execution_count": 9,
   "id": "b56d41d5",
   "metadata": {},
   "outputs": [
    {
     "name": "stdout",
     "output_type": "stream",
     "text": [
      "x_data.ndim =  2 , x_data.shape =  (9, 3)\n",
      "t_data.ndim =  2 , t_data.shape =  (9, 1)\n"
     ]
    }
   ],
   "source": [
    "import numpy as np\n",
    "loaded_data = np.loadtxt('./data_01.csv', delimiter=',', dtype=np.float32) \n",
    "x_data = loaded_data[:, 0:-1]\n",
    "t_data = loaded_data[:, [-1]]\n",
    "\n",
    "# 데이터 차원 및 shape 확인\n",
    "print(\"x_data.ndim = \", x_data.ndim, \", x_data.shape = \", x_data.shape) \n",
    "print(\"t_data.ndim = \", t_data.ndim, \", t_data.shape = \", t_data.shape)\n"
   ]
  },
  {
   "cell_type": "code",
   "execution_count": 10,
   "id": "a3402fef",
   "metadata": {},
   "outputs": [
    {
     "name": "stdout",
     "output_type": "stream",
     "text": [
      "W =  [[0.37454012]\n",
      " [0.95071431]\n",
      " [0.73199394]] , W.shape =  (3, 1) , b =  [0.59865848] , b.shape =  (1,)\n"
     ]
    }
   ],
   "source": [
    "np.random.seed(42)\n",
    "W = np.random.rand(3,1) # 가중치 W 초기화\n",
    "b = np.random.rand(1) # 바이어스 b 초기화\n",
    "print(\"W = \", W, \", W.shape = \", W.shape, \", b = \", b, \", b.shape = \", b.shape) # 가중치 W, 바이어스 b 업데이트 및 학습과정 결과\n"
   ]
  },
  {
   "cell_type": "code",
   "execution_count": 14,
   "id": "656470d7",
   "metadata": {},
   "outputs": [
    {
     "name": "stdout",
     "output_type": "stream",
     "text": [
      "Initial loss value =  3.637410373246286\n",
      "step =  0 loss value =  3.6374102761777483 W = [[0.40692916]\n",
      " [0.52479057]\n",
      " [1.06698914]] b = [0.5882781]\n",
      "step =  3000 loss value =  3.6371455880487935 W = [[0.4064019 ]\n",
      " [0.52429284]\n",
      " [1.06800523]] b = [0.58575712]\n",
      "step =  6000 loss value =  3.636910008683982 W = [[0.40606701]\n",
      " [0.52398166]\n",
      " [1.06865724]] b = [0.58322269]\n",
      "step =  9000 loss value =  3.6366855734820343 W = [[0.40584914]\n",
      " [0.5237834 ]\n",
      " [1.06908833]] b = [0.58068165]\n",
      "step =  12000 loss value =  3.636465669254549 W = [[0.40570237]\n",
      " [0.52365356]\n",
      " [1.06938533]] b = [0.57813817]\n",
      "step =  15000 loss value =  3.636247860674333 W = [[0.40559878]\n",
      " [0.52356522]\n",
      " [1.06960094]] b = [0.57559477]\n",
      "step =  18000 loss value =  3.636031250078945 W = [[0.40552143]\n",
      " [0.52350206]\n",
      " [1.0697671 ]] b = [0.57305299]\n",
      "step =  21000 loss value =  3.63581550574936 W = [[0.40546001]\n",
      " [0.52345419]\n",
      " [1.06990322]] b = [0.57051373]\n",
      "step =  24000 loss value =  3.6356005042675617 W = [[0.40540829]\n",
      " [0.52341561]\n",
      " [1.07002106]] b = [0.56797758]\n",
      "step =  27000 loss value =  3.635386198886063 W = [[0.40536246]\n",
      " [0.52338268]\n",
      " [1.07012775]] b = [0.56544485]\n",
      "step =  30000 loss value =  3.6351725710806844 W = [[0.40532025]\n",
      " [0.52335319]\n",
      " [1.07022761]] b = [0.56291575]\n"
     ]
    }
   ],
   "source": [
    "learning_rate = 1e-5\n",
    "f = lambda x : loss_func(x_data,t_data)\n",
    "print(\"Initial loss value = \", loss_func(x_data, t_data) )\n",
    "for step in range(30001):\n",
    "    W -= learning_rate * numerical_derivative(f, W) \n",
    "    b -= learning_rate * numerical_derivative(f, b) \n",
    "    if (step % 3000 == 0):\n",
    "        print(\"step = \", step, \"loss value = \", loss_func(x_data, t_data), \"W =\", W, \"b =\", b )"
   ]
  },
  {
   "cell_type": "code",
   "execution_count": 12,
   "id": "6e7a28ba",
   "metadata": {},
   "outputs": [
    {
     "data": {
      "text/plain": [
       "array([179.13680055])"
      ]
     },
     "execution_count": 12,
     "metadata": {},
     "output_type": "execute_result"
    }
   ],
   "source": [
    "test_data = np.array([100, 98, 81])\n",
    "predict(test_data)"
   ]
  },
  {
   "cell_type": "code",
   "execution_count": 15,
   "id": "e906fac8",
   "metadata": {},
   "outputs": [
    {
     "name": "stdout",
     "output_type": "stream",
     "text": [
      "정확도 : 0.6844267283527129\n",
      "계수 : [-1.28322638e-01  2.95517751e-02  4.88590934e-02  2.77350326e+00\n",
      " -1.62388292e+01  4.36875476e+00 -9.24808158e-03 -1.40086668e+00\n",
      "  2.57761243e-01 -9.95694820e-03 -9.23122944e-01  1.31854199e-02\n",
      " -5.17639519e-01]\n",
      "절편 : 29.83642016383921\n"
     ]
    },
    {
     "name": "stderr",
     "output_type": "stream",
     "text": [
      "/Users/choejm/AI02/lib/python3.7/site-packages/sklearn/utils/deprecation.py:87: FutureWarning: Function load_boston is deprecated; `load_boston` is deprecated in 1.0 and will be removed in 1.2.\n",
      "\n",
      "    The Boston housing prices dataset has an ethical problem. You can refer to\n",
      "    the documentation of this function for further details.\n",
      "\n",
      "    The scikit-learn maintainers therefore strongly discourage the use of this\n",
      "    dataset unless the purpose of the code is to study and educate about\n",
      "    ethical issues in data science and machine learning.\n",
      "\n",
      "    In this special case, you can fetch the dataset from the original\n",
      "    source::\n",
      "\n",
      "        import pandas as pd\n",
      "        import numpy as np\n",
      "\n",
      "\n",
      "        data_url = \"http://lib.stat.cmu.edu/datasets/boston\"\n",
      "        raw_df = pd.read_csv(data_url, sep=\"\\s+\", skiprows=22, header=None)\n",
      "        data = np.hstack([raw_df.values[::2, :], raw_df.values[1::2, :2]])\n",
      "        target = raw_df.values[1::2, 2]\n",
      "\n",
      "    Alternative datasets include the California housing dataset (i.e.\n",
      "    :func:`~sklearn.datasets.fetch_california_housing`) and the Ames housing\n",
      "    dataset. You can load the datasets as follows::\n",
      "\n",
      "        from sklearn.datasets import fetch_california_housing\n",
      "        housing = fetch_california_housing()\n",
      "\n",
      "    for the California housing dataset and::\n",
      "\n",
      "        from sklearn.datasets import fetch_openml\n",
      "        housing = fetch_openml(name=\"house_prices\", as_frame=True)\n",
      "\n",
      "    for the Ames housing dataset.\n",
      "    \n",
      "  warnings.warn(msg, category=FutureWarning)\n"
     ]
    }
   ],
   "source": [
    "from sklearn.datasets import load_boston\n",
    "from sklearn.model_selection import train_test_split\n",
    "\n",
    "data = load_boston()\n",
    "X_train, X_test, y_train, y_test = train_test_split(data.data, data.target, random_state=42)\n",
    "\n",
    "# 모델 생성 및 학습\n",
    "from sklearn.linear_model import LinearRegression\n",
    "model = LinearRegression()\n",
    "model.fit(X_train, y_train)\n",
    "\n",
    "# 모델 예측 및 평가\n",
    "score = model.score(X_test, y_test) \n",
    "print(\"정확도 :\", score)\n",
    "cofficient = model.coef_\n",
    "intercept = model.intercept_\n",
    "print(\"계수 :\", cofficient) \n",
    "print(\"절편 :\", intercept)"
   ]
  },
  {
   "cell_type": "code",
   "execution_count": 18,
   "id": "23bbe440",
   "metadata": {},
   "outputs": [
    {
     "data": {
      "text/plain": [
       "dict_keys(['data', 'target', 'feature_names', 'DESCR', 'filename', 'data_module'])"
      ]
     },
     "execution_count": 18,
     "metadata": {},
     "output_type": "execute_result"
    }
   ],
   "source": [
    "data.keys()"
   ]
  },
  {
   "cell_type": "code",
   "execution_count": 23,
   "id": "6d521bef",
   "metadata": {},
   "outputs": [
    {
     "data": {
      "text/plain": [
       "array([[6.3200e-03, 1.8000e+01, 2.3100e+00, ..., 1.5300e+01, 3.9690e+02,\n",
       "        4.9800e+00],\n",
       "       [2.7310e-02, 0.0000e+00, 7.0700e+00, ..., 1.7800e+01, 3.9690e+02,\n",
       "        9.1400e+00],\n",
       "       [2.7290e-02, 0.0000e+00, 7.0700e+00, ..., 1.7800e+01, 3.9283e+02,\n",
       "        4.0300e+00],\n",
       "       ...,\n",
       "       [6.0760e-02, 0.0000e+00, 1.1930e+01, ..., 2.1000e+01, 3.9690e+02,\n",
       "        5.6400e+00],\n",
       "       [1.0959e-01, 0.0000e+00, 1.1930e+01, ..., 2.1000e+01, 3.9345e+02,\n",
       "        6.4800e+00],\n",
       "       [4.7410e-02, 0.0000e+00, 1.1930e+01, ..., 2.1000e+01, 3.9690e+02,\n",
       "        7.8800e+00]])"
      ]
     },
     "execution_count": 23,
     "metadata": {},
     "output_type": "execute_result"
    }
   ],
   "source": [
    "data.data"
   ]
  },
  {
   "cell_type": "code",
   "execution_count": 21,
   "id": "604ad487",
   "metadata": {},
   "outputs": [
    {
     "data": {
      "text/plain": [
       "(506,)"
      ]
     },
     "execution_count": 21,
     "metadata": {},
     "output_type": "execute_result"
    }
   ],
   "source": [
    "data.target.shape"
   ]
  },
  {
   "cell_type": "code",
   "execution_count": 22,
   "id": "4ec56d17",
   "metadata": {},
   "outputs": [
    {
     "data": {
      "text/plain": [
       "array([24. , 21.6, 34.7, 33.4, 36.2, 28.7, 22.9, 27.1, 16.5, 18.9, 15. ,\n",
       "       18.9, 21.7, 20.4, 18.2, 19.9, 23.1, 17.5, 20.2, 18.2, 13.6, 19.6,\n",
       "       15.2, 14.5, 15.6, 13.9, 16.6, 14.8, 18.4, 21. ])"
      ]
     },
     "execution_count": 22,
     "metadata": {},
     "output_type": "execute_result"
    }
   ],
   "source": [
    "data.target[:30]"
   ]
  },
  {
   "cell_type": "code",
   "execution_count": 24,
   "id": "0fc0b404",
   "metadata": {},
   "outputs": [
    {
     "data": {
      "text/plain": [
       "array(['CRIM', 'ZN', 'INDUS', 'CHAS', 'NOX', 'RM', 'AGE', 'DIS', 'RAD',\n",
       "       'TAX', 'PTRATIO', 'B', 'LSTAT'], dtype='<U7')"
      ]
     },
     "execution_count": 24,
     "metadata": {},
     "output_type": "execute_result"
    }
   ],
   "source": [
    "data.feature_names"
   ]
  },
  {
   "cell_type": "code",
   "execution_count": 25,
   "id": "93c5a3b1",
   "metadata": {},
   "outputs": [
    {
     "name": "stdout",
     "output_type": "stream",
     "text": [
      ".. _boston_dataset:\n",
      "\n",
      "Boston house prices dataset\n",
      "---------------------------\n",
      "\n",
      "**Data Set Characteristics:**  \n",
      "\n",
      "    :Number of Instances: 506 \n",
      "\n",
      "    :Number of Attributes: 13 numeric/categorical predictive. Median Value (attribute 14) is usually the target.\n",
      "\n",
      "    :Attribute Information (in order):\n",
      "        - CRIM     per capita crime rate by town\n",
      "        - ZN       proportion of residential land zoned for lots over 25,000 sq.ft.\n",
      "        - INDUS    proportion of non-retail business acres per town\n",
      "        - CHAS     Charles River dummy variable (= 1 if tract bounds river; 0 otherwise)\n",
      "        - NOX      nitric oxides concentration (parts per 10 million)\n",
      "        - RM       average number of rooms per dwelling\n",
      "        - AGE      proportion of owner-occupied units built prior to 1940\n",
      "        - DIS      weighted distances to five Boston employment centres\n",
      "        - RAD      index of accessibility to radial highways\n",
      "        - TAX      full-value property-tax rate per $10,000\n",
      "        - PTRATIO  pupil-teacher ratio by town\n",
      "        - B        1000(Bk - 0.63)^2 where Bk is the proportion of black people by town\n",
      "        - LSTAT    % lower status of the population\n",
      "        - MEDV     Median value of owner-occupied homes in $1000's\n",
      "\n",
      "    :Missing Attribute Values: None\n",
      "\n",
      "    :Creator: Harrison, D. and Rubinfeld, D.L.\n",
      "\n",
      "This is a copy of UCI ML housing dataset.\n",
      "https://archive.ics.uci.edu/ml/machine-learning-databases/housing/\n",
      "\n",
      "\n",
      "This dataset was taken from the StatLib library which is maintained at Carnegie Mellon University.\n",
      "\n",
      "The Boston house-price data of Harrison, D. and Rubinfeld, D.L. 'Hedonic\n",
      "prices and the demand for clean air', J. Environ. Economics & Management,\n",
      "vol.5, 81-102, 1978.   Used in Belsley, Kuh & Welsch, 'Regression diagnostics\n",
      "...', Wiley, 1980.   N.B. Various transformations are used in the table on\n",
      "pages 244-261 of the latter.\n",
      "\n",
      "The Boston house-price data has been used in many machine learning papers that address regression\n",
      "problems.   \n",
      "     \n",
      ".. topic:: References\n",
      "\n",
      "   - Belsley, Kuh & Welsch, 'Regression diagnostics: Identifying Influential Data and Sources of Collinearity', Wiley, 1980. 244-261.\n",
      "   - Quinlan,R. (1993). Combining Instance-Based and Model-Based Learning. In Proceedings on the Tenth International Conference of Machine Learning, 236-243, University of Massachusetts, Amherst. Morgan Kaufmann.\n",
      "\n"
     ]
    }
   ],
   "source": [
    "print(data.DESCR)"
   ]
  },
  {
   "cell_type": "code",
   "execution_count": 26,
   "id": "e97dece8",
   "metadata": {},
   "outputs": [
    {
     "name": "stdout",
     "output_type": "stream",
     "text": [
      "[[0.38179097 0.5078311  1.1275766 ]] [-1.0563049]\n"
     ]
    }
   ],
   "source": [
    "loaded_data = np.loadtxt('./data_01.csv', delimiter=',', dtype=np.float32) \n",
    "x_data = loaded_data[:, 0:-1]\n",
    "t_data = loaded_data[:, [-1]]\n",
    "\n",
    "model=LinearRegression().fit(x_data,t_data)\n",
    "print(model.coef_, model.intercept_)"
   ]
  },
  {
   "cell_type": "code",
   "execution_count": 29,
   "id": "65eab408",
   "metadata": {},
   "outputs": [
    {
     "data": {
      "text/plain": [
       "array([[178.22394288]])"
      ]
     },
     "execution_count": 29,
     "metadata": {},
     "output_type": "execute_result"
    }
   ],
   "source": [
    "test_data = np.array([[100, 98, 81]])\n",
    "pred_data = model.predict(test_data)\n",
    "pred_data"
   ]
  },
  {
   "cell_type": "code",
   "execution_count": 30,
   "id": "a57d7811",
   "metadata": {},
   "outputs": [
    {
     "name": "stdout",
     "output_type": "stream",
     "text": [
      "slope: 0.8744839346616406\n",
      "intercept: -26.723837731107523\n",
      "r_value: 0.8880668255497455\n",
      "p_value: 0.00321829451984264\n",
      "std_err: 0.18480710092393707\n"
     ]
    }
   ],
   "source": [
    "from scipy import stats\n",
    "\n",
    "x = [32,64,96,118,126,144,152,158]\n",
    "y = [18,24,61.5,49,52,105,130,125]\n",
    "\n",
    "slope, intercept, r_value, p_value, std_err = stats.linregress(x,y) # 선형 최소 제곱 회귀를 계산. \n",
    "print(\"slope: {}\\nintercept: {}\\nr_value: {}\\np_value: {}\\nstd_err: {}\"\\\n",
    "      .format(slope, intercept, r_value, p_value, std_err))"
   ]
  },
  {
   "cell_type": "code",
   "execution_count": 31,
   "id": "ad51dbab",
   "metadata": {},
   "outputs": [
    {
     "data": {
      "image/png": "[encoded data removed]",
      "text/plain": [
       "<Figure size 640x480 with 1 Axes>"
      ]
     },
     "metadata": {},
     "output_type": "display_data"
    }
   ],
   "source": [
    "import numpy as np\n",
    "import matplotlib.pyplot as plt \n",
    "plt.scatter(x, y)\n",
    "plt.plot(x, slope*np.array(x) + intercept, '-') \n",
    "plt.show()"
   ]
  },
  {
   "cell_type": "code",
   "execution_count": 44,
   "id": "4e2858c5",
   "metadata": {},
   "outputs": [
    {
     "name": "stderr",
     "output_type": "stream",
     "text": [
      "/Users/choejm/AI02/lib/python3.7/site-packages/sklearn/utils/deprecation.py:87: FutureWarning: Function load_boston is deprecated; `load_boston` is deprecated in 1.0 and will be removed in 1.2.\n",
      "\n",
      "    The Boston housing prices dataset has an ethical problem. You can refer to\n",
      "    the documentation of this function for further details.\n",
      "\n",
      "    The scikit-learn maintainers therefore strongly discourage the use of this\n",
      "    dataset unless the purpose of the code is to study and educate about\n",
      "    ethical issues in data science and machine learning.\n",
      "\n",
      "    In this special case, you can fetch the dataset from the original\n",
      "    source::\n",
      "\n",
      "        import pandas as pd\n",
      "        import numpy as np\n",
      "\n",
      "\n",
      "        data_url = \"http://lib.stat.cmu.edu/datasets/boston\"\n",
      "        raw_df = pd.read_csv(data_url, sep=\"\\s+\", skiprows=22, header=None)\n",
      "        data = np.hstack([raw_df.values[::2, :], raw_df.values[1::2, :2]])\n",
      "        target = raw_df.values[1::2, 2]\n",
      "\n",
      "    Alternative datasets include the California housing dataset (i.e.\n",
      "    :func:`~sklearn.datasets.fetch_california_housing`) and the Ames housing\n",
      "    dataset. You can load the datasets as follows::\n",
      "\n",
      "        from sklearn.datasets import fetch_california_housing\n",
      "        housing = fetch_california_housing()\n",
      "\n",
      "    for the California housing dataset and::\n",
      "\n",
      "        from sklearn.datasets import fetch_openml\n",
      "        housing = fetch_openml(name=\"house_prices\", as_frame=True)\n",
      "\n",
      "    for the Ames housing dataset.\n",
      "    \n",
      "  warnings.warn(msg, category=FutureWarning)\n"
     ]
    }
   ],
   "source": [
    "from sklearn.datasets import load_boston \n",
    "boston = load_boston()\n",
    "X = boston.data\n",
    "y = boston.target\n",
    "\n",
    "# 데이터 분핛하기\n",
    "from sklearn.model_selection import train_test_split\n",
    "X_train, X_test, y_train, y_test = train_test_split(X, y, test_size=0.3,random_state=10)\n",
    "\n"
   ]
  },
  {
   "cell_type": "code",
   "execution_count": 46,
   "id": "a7bb1d2c",
   "metadata": {},
   "outputs": [
    {
     "data": {
      "text/plain": [
       "array([[1.20830e-01, 0.00000e+00, 2.89000e+00, 0.00000e+00, 4.45000e-01,\n",
       "        8.06900e+00, 7.60000e+01, 3.49520e+00, 2.00000e+00, 2.76000e+02,\n",
       "        1.80000e+01, 3.96900e+02, 4.21000e+00],\n",
       "       [3.40060e-01, 0.00000e+00, 2.18900e+01, 0.00000e+00, 6.24000e-01,\n",
       "        6.45800e+00, 9.89000e+01, 2.11850e+00, 4.00000e+00, 4.37000e+02,\n",
       "        2.12000e+01, 3.95040e+02, 1.26000e+01],\n",
       "       [1.50234e+01, 0.00000e+00, 1.81000e+01, 0.00000e+00, 6.14000e-01,\n",
       "        5.30400e+00, 9.73000e+01, 2.10070e+00, 2.40000e+01, 6.66000e+02,\n",
       "        2.02000e+01, 3.49480e+02, 2.49100e+01],\n",
       "       [3.11300e-02, 0.00000e+00, 4.39000e+00, 0.00000e+00, 4.42000e-01,\n",
       "        6.01400e+00, 4.85000e+01, 8.01360e+00, 3.00000e+00, 3.52000e+02,\n",
       "        1.88000e+01, 3.85640e+02, 1.05300e+01],\n",
       "       [5.05900e-02, 0.00000e+00, 4.49000e+00, 0.00000e+00, 4.49000e-01,\n",
       "        6.38900e+00, 4.80000e+01, 4.77940e+00, 3.00000e+00, 2.47000e+02,\n",
       "        1.85000e+01, 3.96900e+02, 9.62000e+00],\n",
       "       [1.15779e+01, 0.00000e+00, 1.81000e+01, 0.00000e+00, 7.00000e-01,\n",
       "        5.03600e+00, 9.70000e+01, 1.77000e+00, 2.40000e+01, 6.66000e+02,\n",
       "        2.02000e+01, 3.96900e+02, 2.56800e+01],\n",
       "       [2.73397e+00, 0.00000e+00, 1.95800e+01, 0.00000e+00, 8.71000e-01,\n",
       "        5.59700e+00, 9.49000e+01, 1.52570e+00, 5.00000e+00, 4.03000e+02,\n",
       "        1.47000e+01, 3.51850e+02, 2.14500e+01],\n",
       "       [1.14320e-01, 0.00000e+00, 8.56000e+00, 0.00000e+00, 5.20000e-01,\n",
       "        6.78100e+00, 7.13000e+01, 2.85610e+00, 5.00000e+00, 3.84000e+02,\n",
       "        2.09000e+01, 3.95580e+02, 7.67000e+00],\n",
       "       [1.28023e+01, 0.00000e+00, 1.81000e+01, 0.00000e+00, 7.40000e-01,\n",
       "        5.85400e+00, 9.66000e+01, 1.89560e+00, 2.40000e+01, 6.66000e+02,\n",
       "        2.02000e+01, 2.40520e+02, 2.37900e+01],\n",
       "       [4.66883e+00, 0.00000e+00, 1.81000e+01, 0.00000e+00, 7.13000e-01,\n",
       "        5.97600e+00, 8.79000e+01, 2.58060e+00, 2.40000e+01, 6.66000e+02,\n",
       "        2.02000e+01, 1.04800e+01, 1.90100e+01]])"
      ]
     },
     "execution_count": 46,
     "metadata": {},
     "output_type": "execute_result"
    }
   ],
   "source": [
    "X_train[:10]"
   ]
  },
  {
   "cell_type": "code",
   "execution_count": 47,
   "id": "a870e9b2",
   "metadata": {},
   "outputs": [],
   "source": [
    "# MinMaxScaler : 최대/최소값이 각각 1, 0이 되도록 스케일링\n",
    "from sklearn.preprocessing import MinMaxScaler\n",
    "scaler = MinMaxScaler(feature_range=(0,1)) \n",
    "scaler.fit(X_train)\n",
    "X_train_scaled = scaler.transform(X_train) \n",
    "X_test_scaled = scaler.transform(X_test)\n"
   ]
  },
  {
   "cell_type": "code",
   "execution_count": 57,
   "id": "6fa3b517",
   "metadata": {},
   "outputs": [
    {
     "data": {
      "text/plain": [
       "array([[1.28706479e-03, 0.00000000e+00, 8.90762463e-02, 0.00000000e+00,\n",
       "        1.23456790e-01, 8.63767005e-01, 7.52832132e-01, 2.14586651e-01,\n",
       "        4.34782609e-02, 1.69847328e-01, 5.74468085e-01, 1.00000000e+00,\n",
       "        6.35228849e-02],\n",
       "       [3.75115713e-03, 0.00000000e+00, 7.85557185e-01, 0.00000000e+00,\n",
       "        4.91769547e-01, 5.55087181e-01, 9.88671473e-01, 8.93125256e-02,\n",
       "        1.30434783e-01, 4.77099237e-01, 9.14893617e-01, 9.95309900e-01,\n",
       "        2.96255201e-01],\n",
       "       [1.68788358e-01, 0.00000000e+00, 6.46627566e-01, 0.00000000e+00,\n",
       "        4.71193416e-01, 3.33972025e-01, 9.72193615e-01, 8.76927977e-02,\n",
       "        1.00000000e+00, 9.14122137e-01, 8.08510638e-01, 8.80427656e-01,\n",
       "        6.37725381e-01],\n",
       "       [2.78858418e-04, 0.00000000e+00, 1.44061584e-01, 0.00000000e+00,\n",
       "        1.17283951e-01, 4.70013413e-01, 4.69618950e-01, 6.25742754e-01,\n",
       "        8.69565217e-02, 3.14885496e-01, 6.59574468e-01, 9.71607242e-01,\n",
       "        2.38834951e-01],\n",
       "       [4.97584126e-04, 0.00000000e+00, 1.47727273e-01, 0.00000000e+00,\n",
       "        1.31687243e-01, 5.41866258e-01, 4.64469619e-01, 3.31443651e-01,\n",
       "        8.69565217e-02, 1.14503817e-01, 6.27659574e-01, 1.00000000e+00,\n",
       "        2.13592233e-01],\n",
       "       [1.30061769e-01, 0.00000000e+00, 6.46627566e-01, 0.00000000e+00,\n",
       "        6.48148148e-01, 2.82621192e-01, 9.69104016e-01, 5.76004368e-02,\n",
       "        1.00000000e+00, 9.14122137e-01, 8.08510638e-01, 1.00000000e+00,\n",
       "        6.59084605e-01],\n",
       "       [3.06581283e-02, 0.00000000e+00, 7.00879765e-01, 0.00000000e+00,\n",
       "        1.00000000e+00, 3.90113048e-01, 9.47476828e-01, 3.53701260e-02,\n",
       "        1.73913043e-01, 4.12213740e-01, 2.23404255e-01, 8.86403752e-01,\n",
       "        5.41747573e-01],\n",
       "       [1.21389396e-03, 0.00000000e+00, 2.96920821e-01, 0.00000000e+00,\n",
       "        2.77777778e-01, 6.16976432e-01, 7.04428424e-01, 1.56431139e-01,\n",
       "        1.73913043e-01, 3.75954198e-01, 8.82978723e-01, 9.96671542e-01,\n",
       "        1.59500693e-01],\n",
       "       [1.43823730e-01, 0.00000000e+00, 6.46627566e-01, 0.00000000e+00,\n",
       "        7.30452675e-01, 4.39356199e-01, 9.64984552e-01, 6.90295282e-02,\n",
       "        1.00000000e+00, 9.14122137e-01, 8.08510638e-01, 6.05678552e-01,\n",
       "        6.06657420e-01],\n",
       "       [5.24054882e-02, 0.00000000e+00, 6.46627566e-01, 0.00000000e+00,\n",
       "        6.74897119e-01, 4.62732324e-01, 8.75386200e-01, 1.31361754e-01,\n",
       "        1.00000000e+00, 9.14122137e-01, 8.08510638e-01, 2.56190428e-02,\n",
       "        4.74063800e-01]])"
      ]
     },
     "execution_count": 57,
     "metadata": {},
     "output_type": "execute_result"
    }
   ],
   "source": [
    "X_train_scaled[:10]"
   ]
  },
  {
   "cell_type": "code",
   "execution_count": 48,
   "id": "55c6715d",
   "metadata": {},
   "outputs": [
    {
     "name": "stdout",
     "output_type": "stream",
     "text": [
      "[-13.68144003   6.5015927   -0.66180551   1.62203309  -7.43576628\n",
      "  17.49391411   1.09975424 -17.01294065   6.96076337  -6.40943881\n",
      "  -7.62846702   5.13590129 -19.64226007]\n",
      "25.29915349564377\n"
     ]
    }
   ],
   "source": [
    "\n",
    "# scikit-learn 패키지를 사용하여 선형 회귀분석을 하는 경우에는 linear_model 서브 패키지의 LinearRegression 클래스를 사용핚다.\n",
    "from sklearn.linear_model import LinearRegression\n",
    "# 회귀분석을 하고 나면 모형 객체는 다음과 같은 속성을 가지게 된다. 또핚 fit 메서드는 객체 자싞을 반홖 \n",
    "model_boston = LinearRegression().fit(X_train_scaled, y_train)\n",
    "print(model_boston.coef_) # coef_ : 추정된 가중치 벡터(W)\n",
    "print(model_boston.intercept_) # intercept_ : 추정된 상수항(b)"
   ]
  },
  {
   "cell_type": "code",
   "execution_count": 58,
   "id": "0f6b860a",
   "metadata": {},
   "outputs": [
    {
     "data": {
      "text/plain": [
       "0.7495400632086622"
      ]
     },
     "execution_count": 58,
     "metadata": {},
     "output_type": "execute_result"
    }
   ],
   "source": [
    "# score() : 결정 계수 R^2 점수를 계산. 결정 계수는 -1~1 사이의 값을 가짐. \n",
    "model_boston.score(X_train_scaled, y_train)"
   ]
  },
  {
   "cell_type": "code",
   "execution_count": 59,
   "id": "952aed5c",
   "metadata": {},
   "outputs": [
    {
     "data": {
      "text/plain": [
       "array([0.68677858, 0.80010349, 0.73521821, 0.76076173, 0.55966062])"
      ]
     },
     "execution_count": 59,
     "metadata": {},
     "output_type": "execute_result"
    }
   ],
   "source": [
    "# cross_val_score(model, X, y, scoring=None, cv=None) : 교차검증 함수\n",
    "# model : 회귀 분석 모형, X : 독립 변수 데이터, y : 종속 변수 데이터, scoring : 성능 검증에 사용핛 함수 이름\n",
    "# cv : 교차검증 생성기 객체 또는 숫자. None이면 KFold(3), 숫자 k이면 KFold(k)\n",
    "from sklearn.model_selection import cross_val_score\n",
    "r2 = cross_val_score(model_boston, X_train_scaled, y_train, cv=5)\n",
    "r2\n"
   ]
  },
  {
   "cell_type": "code",
   "execution_count": 51,
   "id": "64d7d887",
   "metadata": {},
   "outputs": [
    {
     "data": {
      "text/plain": [
       "0.7085045269202352"
      ]
     },
     "execution_count": 51,
     "metadata": {},
     "output_type": "execute_result"
    }
   ],
   "source": [
    "r2.mean()"
   ]
  },
  {
   "cell_type": "code",
   "execution_count": 52,
   "id": "6cc65dbf",
   "metadata": {},
   "outputs": [
    {
     "data": {
      "text/plain": [
       "4.411312745068365"
      ]
     },
     "execution_count": 52,
     "metadata": {},
     "output_type": "execute_result"
    }
   ],
   "source": [
    "import math\n",
    "from sklearn.metrics import mean_squared_error # mean_squared_error: 평균 제곱 오차(mean squared error)\n",
    "math.sqrt(mean_squared_error(y_train, model_boston.predict(X_train_scaled))) # 표준오차 구함 RMSE\n"
   ]
  },
  {
   "cell_type": "code",
   "execution_count": 53,
   "id": "620acbad",
   "metadata": {},
   "outputs": [
    {
     "data": {
      "text/plain": [
       "array([31.4243217 , 31.96785487, 30.93785448, 22.34313349, 18.83846235,\n",
       "       16.20617519, 35.92908162, 14.74157477, 25.07700756, 37.13230282,\n",
       "       21.47652971, 30.92661826, 28.07823424, 34.02599249, 33.7778476 ,\n",
       "       40.63701192, 24.25899783, 23.43019291, 25.547906  , 21.34469147,\n",
       "       32.65467539, 17.80506124, 25.46149722, 25.0207691 , 32.51742137,\n",
       "       20.51357936, 19.47165255, 16.87107974, 38.44316206,  0.3888111 ,\n",
       "       32.39559257, 32.15518102, 26.05305015, 23.82049084, 20.56494632,\n",
       "       19.66990981,  3.53212643, 35.21058387, 27.03280773, 27.67994129,\n",
       "       34.36642896, 29.82003002, 18.31717228, 31.55109654, 17.93465111,\n",
       "       28.4618882 , 19.39950216, 21.60782793, 38.10391926, 16.45101411,\n",
       "       24.51003632, 19.57072199, 24.53359986, 34.34589029, 26.74381857,\n",
       "       34.86340026, 21.02859444, 19.77400901, 18.68461884, 24.64911818,\n",
       "       19.89923131, 23.52871967, 39.56690084, 42.81848202, 30.38116596,\n",
       "       16.96889789, 23.83550068,  3.18952008, 31.52469303, 28.66536677,\n",
       "       18.40003941, 27.1252398 , 19.56625808, 25.28579071, 25.04642543,\n",
       "       10.30562974, 38.97693514,  8.17901104, 18.51160158, 30.32060192,\n",
       "       22.85826904, 20.98739809, 20.03256896, 28.70004491, 30.83986409,\n",
       "       28.22575374, 26.26715448, 31.56221764, 22.16821072, -6.40058282,\n",
       "       21.56768106, 19.91022274, 24.98025707, 23.46247865, 19.27692546,\n",
       "       18.74766072, 27.39474857, 22.21870161, 26.82617865, 23.38366235,\n",
       "       23.91947259, 19.26003338, 21.09721048, 10.97767848, 13.82483416,\n",
       "       20.72378817, 23.53977916, 13.92807616, 28.87070782, 15.75931299,\n",
       "       15.18847286, 22.31904753, 26.57865025, 28.92895886, 24.2980433 ,\n",
       "       18.18585276, 16.29471281, 17.40018499, 15.5361744 , 21.171008  ,\n",
       "       33.71665888, 30.02422884, 21.13474092, 13.93326869, 16.19662736,\n",
       "       29.30890971, 13.1822158 , 22.06473155, 24.33753588, 31.89978763,\n",
       "       33.44295992,  5.90754764, 35.2142013 , 24.1925307 , 17.45166483,\n",
       "       24.25550318, 28.41864261, 34.52462088,  6.2544935 ,  2.12089952,\n",
       "       28.40739835, 12.49858357, 18.22016397, 19.69247114,  5.52373677,\n",
       "       14.45613717, 37.18224665, 25.78695839, 23.32233462, 26.36634945,\n",
       "       11.47817153, 20.44901468])"
      ]
     },
     "execution_count": 53,
     "metadata": {},
     "output_type": "execute_result"
    }
   ],
   "source": [
    "y_pred = model_boston.predict(X_test_scaled)\n",
    "y_pred"
   ]
  },
  {
   "cell_type": "code",
   "execution_count": 54,
   "id": "79b15c01",
   "metadata": {},
   "outputs": [
    {
     "data": {
      "text/plain": [
       "5.415403634644723"
      ]
     },
     "execution_count": 54,
     "metadata": {},
     "output_type": "execute_result"
    }
   ],
   "source": [
    "import math\n",
    "from sklearn.metrics import mean_squared_error\n",
    "\n",
    "rmse_test = math.sqrt(mean_squared_error(y_test, y_pred)) #RMSE : 루트 평균 제곱 오류 \n",
    "rmse_test\n"
   ]
  },
  {
   "cell_type": "code",
   "execution_count": 55,
   "id": "51b6457a",
   "metadata": {},
   "outputs": [
    {
     "data": {
      "text/plain": [
       "0.6996255772983111"
      ]
     },
     "execution_count": 55,
     "metadata": {},
     "output_type": "execute_result"
    }
   ],
   "source": [
    "from sklearn.metrics import r2_score\n",
    "r2_score(y_test, y_pred) # 결정 계수 구함. 결정계수(r2, R-squared) : 상관계수를 제곱핚 값"
   ]
  },
  {
   "cell_type": "code",
   "execution_count": 60,
   "id": "f239ba39",
   "metadata": {},
   "outputs": [
    {
     "data": {
      "text/html": [
       "<div>\n",
       "<style scoped>\n",
       "    .dataframe tbody tr th:only-of-type {\n",
       "        vertical-align: middle;\n",
       "    }\n",
       "\n",
       "    .dataframe tbody tr th {\n",
       "        vertical-align: top;\n",
       "    }\n",
       "\n",
       "    .dataframe thead th {\n",
       "        text-align: right;\n",
       "    }\n",
       "</style>\n",
       "<table border=\"1\" class=\"dataframe\">\n",
       "  <thead>\n",
       "    <tr style=\"text-align: right;\">\n",
       "      <th></th>\n",
       "      <th>crim</th>\n",
       "      <th>zn</th>\n",
       "      <th>indus</th>\n",
       "      <th>chas</th>\n",
       "      <th>nox</th>\n",
       "      <th>rm</th>\n",
       "      <th>age</th>\n",
       "      <th>dis</th>\n",
       "      <th>rad</th>\n",
       "      <th>tax</th>\n",
       "      <th>ptratio</th>\n",
       "      <th>black</th>\n",
       "      <th>lstat</th>\n",
       "      <th>medv</th>\n",
       "    </tr>\n",
       "  </thead>\n",
       "  <tbody>\n",
       "    <tr>\n",
       "      <th>0</th>\n",
       "      <td>0.00632</td>\n",
       "      <td>18.0</td>\n",
       "      <td>2.31</td>\n",
       "      <td>0</td>\n",
       "      <td>0.538</td>\n",
       "      <td>6.575</td>\n",
       "      <td>65.2</td>\n",
       "      <td>4.0900</td>\n",
       "      <td>1</td>\n",
       "      <td>296</td>\n",
       "      <td>15.3</td>\n",
       "      <td>396.90</td>\n",
       "      <td>4.98</td>\n",
       "      <td>24.0</td>\n",
       "    </tr>\n",
       "    <tr>\n",
       "      <th>1</th>\n",
       "      <td>0.02731</td>\n",
       "      <td>0.0</td>\n",
       "      <td>7.07</td>\n",
       "      <td>0</td>\n",
       "      <td>0.469</td>\n",
       "      <td>6.421</td>\n",
       "      <td>78.9</td>\n",
       "      <td>4.9671</td>\n",
       "      <td>2</td>\n",
       "      <td>242</td>\n",
       "      <td>17.8</td>\n",
       "      <td>396.90</td>\n",
       "      <td>9.14</td>\n",
       "      <td>21.6</td>\n",
       "    </tr>\n",
       "    <tr>\n",
       "      <th>2</th>\n",
       "      <td>0.02729</td>\n",
       "      <td>0.0</td>\n",
       "      <td>7.07</td>\n",
       "      <td>0</td>\n",
       "      <td>0.469</td>\n",
       "      <td>7.185</td>\n",
       "      <td>61.1</td>\n",
       "      <td>4.9671</td>\n",
       "      <td>2</td>\n",
       "      <td>242</td>\n",
       "      <td>17.8</td>\n",
       "      <td>392.83</td>\n",
       "      <td>4.03</td>\n",
       "      <td>34.7</td>\n",
       "    </tr>\n",
       "    <tr>\n",
       "      <th>3</th>\n",
       "      <td>0.03237</td>\n",
       "      <td>0.0</td>\n",
       "      <td>2.18</td>\n",
       "      <td>0</td>\n",
       "      <td>0.458</td>\n",
       "      <td>6.998</td>\n",
       "      <td>45.8</td>\n",
       "      <td>6.0622</td>\n",
       "      <td>3</td>\n",
       "      <td>222</td>\n",
       "      <td>18.7</td>\n",
       "      <td>394.63</td>\n",
       "      <td>2.94</td>\n",
       "      <td>33.4</td>\n",
       "    </tr>\n",
       "    <tr>\n",
       "      <th>4</th>\n",
       "      <td>0.06905</td>\n",
       "      <td>0.0</td>\n",
       "      <td>2.18</td>\n",
       "      <td>0</td>\n",
       "      <td>0.458</td>\n",
       "      <td>7.147</td>\n",
       "      <td>54.2</td>\n",
       "      <td>6.0622</td>\n",
       "      <td>3</td>\n",
       "      <td>222</td>\n",
       "      <td>18.7</td>\n",
       "      <td>396.90</td>\n",
       "      <td>5.33</td>\n",
       "      <td>36.2</td>\n",
       "    </tr>\n",
       "  </tbody>\n",
       "</table>\n",
       "</div>"
      ],
      "text/plain": [
       "      crim    zn  indus  chas    nox     rm   age     dis  rad  tax  ptratio  \\\n",
       "0  0.00632  18.0   2.31     0  0.538  6.575  65.2  4.0900    1  296     15.3   \n",
       "1  0.02731   0.0   7.07     0  0.469  6.421  78.9  4.9671    2  242     17.8   \n",
       "2  0.02729   0.0   7.07     0  0.469  7.185  61.1  4.9671    2  242     17.8   \n",
       "3  0.03237   0.0   2.18     0  0.458  6.998  45.8  6.0622    3  222     18.7   \n",
       "4  0.06905   0.0   2.18     0  0.458  7.147  54.2  6.0622    3  222     18.7   \n",
       "\n",
       "    black  lstat  medv  \n",
       "0  396.90   4.98  24.0  \n",
       "1  396.90   9.14  21.6  \n",
       "2  392.83   4.03  34.7  \n",
       "3  394.63   2.94  33.4  \n",
       "4  396.90   5.33  36.2  "
      ]
     },
     "execution_count": 60,
     "metadata": {},
     "output_type": "execute_result"
    }
   ],
   "source": [
    "import statsmodels.api as sm\n",
    "\n",
    "Boston = sm.datasets.get_rdataset(\"Boston\", package=\"MASS\") \n",
    "boston_df = Boston.data\n",
    "boston_df.head()\n"
   ]
  },
  {
   "cell_type": "code",
   "execution_count": 61,
   "id": "bdca678b",
   "metadata": {},
   "outputs": [
    {
     "data": {
      "text/plain": [
       "'medv~crim+zn+indus+chas+nox+rm+age+dis+rad+tax+ptratio+black+lstat'"
      ]
     },
     "execution_count": 61,
     "metadata": {},
     "output_type": "execute_result"
    }
   ],
   "source": [
    "import statsmodels.formula.api as smf\n",
    "formula = \"medv~\" + \"+\".join(boston_df.iloc[:,:-1].columns) \n",
    "formula"
   ]
  },
  {
   "cell_type": "code",
   "execution_count": 62,
   "id": "32e68668",
   "metadata": {},
   "outputs": [
    {
     "data": {
      "text/html": [
       "<table class=\"simpletable\">\n",
       "<caption>OLS Regression Results</caption>\n",
       "<tr>\n",
       "  <th>Dep. Variable:</th>          <td>medv</td>       <th>  R-squared:         </th> <td>   0.741</td> \n",
       "</tr>\n",
       "<tr>\n",
       "  <th>Model:</th>                   <td>OLS</td>       <th>  Adj. R-squared:    </th> <td>   0.734</td> \n",
       "</tr>\n",
       "<tr>\n",
       "  <th>Method:</th>             <td>Least Squares</td>  <th>  F-statistic:       </th> <td>   108.1</td> \n",
       "</tr>\n",
       "<tr>\n",
       "  <th>Date:</th>             <td>Thu, 24 Aug 2023</td> <th>  Prob (F-statistic):</th> <td>6.72e-135</td>\n",
       "</tr>\n",
       "<tr>\n",
       "  <th>Time:</th>                 <td>22:15:26</td>     <th>  Log-Likelihood:    </th> <td> -1498.8</td> \n",
       "</tr>\n",
       "<tr>\n",
       "  <th>No. Observations:</th>      <td>   506</td>      <th>  AIC:               </th> <td>   3026.</td> \n",
       "</tr>\n",
       "<tr>\n",
       "  <th>Df Residuals:</th>          <td>   492</td>      <th>  BIC:               </th> <td>   3085.</td> \n",
       "</tr>\n",
       "<tr>\n",
       "  <th>Df Model:</th>              <td>    13</td>      <th>                     </th>     <td> </td>    \n",
       "</tr>\n",
       "<tr>\n",
       "  <th>Covariance Type:</th>      <td>nonrobust</td>    <th>                     </th>     <td> </td>    \n",
       "</tr>\n",
       "</table>\n",
       "<table class=\"simpletable\">\n",
       "<tr>\n",
       "      <td></td>         <th>coef</th>     <th>std err</th>      <th>t</th>      <th>P>|t|</th>  <th>[0.025</th>    <th>0.975]</th>  \n",
       "</tr>\n",
       "<tr>\n",
       "  <th>Intercept</th> <td>   36.4595</td> <td>    5.103</td> <td>    7.144</td> <td> 0.000</td> <td>   26.432</td> <td>   46.487</td>\n",
       "</tr>\n",
       "<tr>\n",
       "  <th>crim</th>      <td>   -0.1080</td> <td>    0.033</td> <td>   -3.287</td> <td> 0.001</td> <td>   -0.173</td> <td>   -0.043</td>\n",
       "</tr>\n",
       "<tr>\n",
       "  <th>zn</th>        <td>    0.0464</td> <td>    0.014</td> <td>    3.382</td> <td> 0.001</td> <td>    0.019</td> <td>    0.073</td>\n",
       "</tr>\n",
       "<tr>\n",
       "  <th>indus</th>     <td>    0.0206</td> <td>    0.061</td> <td>    0.334</td> <td> 0.738</td> <td>   -0.100</td> <td>    0.141</td>\n",
       "</tr>\n",
       "<tr>\n",
       "  <th>chas</th>      <td>    2.6867</td> <td>    0.862</td> <td>    3.118</td> <td> 0.002</td> <td>    0.994</td> <td>    4.380</td>\n",
       "</tr>\n",
       "<tr>\n",
       "  <th>nox</th>       <td>  -17.7666</td> <td>    3.820</td> <td>   -4.651</td> <td> 0.000</td> <td>  -25.272</td> <td>  -10.262</td>\n",
       "</tr>\n",
       "<tr>\n",
       "  <th>rm</th>        <td>    3.8099</td> <td>    0.418</td> <td>    9.116</td> <td> 0.000</td> <td>    2.989</td> <td>    4.631</td>\n",
       "</tr>\n",
       "<tr>\n",
       "  <th>age</th>       <td>    0.0007</td> <td>    0.013</td> <td>    0.052</td> <td> 0.958</td> <td>   -0.025</td> <td>    0.027</td>\n",
       "</tr>\n",
       "<tr>\n",
       "  <th>dis</th>       <td>   -1.4756</td> <td>    0.199</td> <td>   -7.398</td> <td> 0.000</td> <td>   -1.867</td> <td>   -1.084</td>\n",
       "</tr>\n",
       "<tr>\n",
       "  <th>rad</th>       <td>    0.3060</td> <td>    0.066</td> <td>    4.613</td> <td> 0.000</td> <td>    0.176</td> <td>    0.436</td>\n",
       "</tr>\n",
       "<tr>\n",
       "  <th>tax</th>       <td>   -0.0123</td> <td>    0.004</td> <td>   -3.280</td> <td> 0.001</td> <td>   -0.020</td> <td>   -0.005</td>\n",
       "</tr>\n",
       "<tr>\n",
       "  <th>ptratio</th>   <td>   -0.9527</td> <td>    0.131</td> <td>   -7.283</td> <td> 0.000</td> <td>   -1.210</td> <td>   -0.696</td>\n",
       "</tr>\n",
       "<tr>\n",
       "  <th>black</th>     <td>    0.0093</td> <td>    0.003</td> <td>    3.467</td> <td> 0.001</td> <td>    0.004</td> <td>    0.015</td>\n",
       "</tr>\n",
       "<tr>\n",
       "  <th>lstat</th>     <td>   -0.5248</td> <td>    0.051</td> <td>  -10.347</td> <td> 0.000</td> <td>   -0.624</td> <td>   -0.425</td>\n",
       "</tr>\n",
       "</table>\n",
       "<table class=\"simpletable\">\n",
       "<tr>\n",
       "  <th>Omnibus:</th>       <td>178.041</td> <th>  Durbin-Watson:     </th> <td>   1.078</td> \n",
       "</tr>\n",
       "<tr>\n",
       "  <th>Prob(Omnibus):</th> <td> 0.000</td>  <th>  Jarque-Bera (JB):  </th> <td> 783.126</td> \n",
       "</tr>\n",
       "<tr>\n",
       "  <th>Skew:</th>          <td> 1.521</td>  <th>  Prob(JB):          </th> <td>8.84e-171</td>\n",
       "</tr>\n",
       "<tr>\n",
       "  <th>Kurtosis:</th>      <td> 8.281</td>  <th>  Cond. No.          </th> <td>1.51e+04</td> \n",
       "</tr>\n",
       "</table><br/><br/>Notes:<br/>[1] Standard Errors assume that the covariance matrix of the errors is correctly specified.<br/>[2] The condition number is large, 1.51e+04. This might indicate that there are<br/>strong multicollinearity or other numerical problems."
      ],
      "text/plain": [
       "<class 'statsmodels.iolib.summary.Summary'>\n",
       "\"\"\"\n",
       "                            OLS Regression Results                            \n",
       "==============================================================================\n",
       "Dep. Variable:                   medv   R-squared:                       0.741\n",
       "Model:                            OLS   Adj. R-squared:                  0.734\n",
       "Method:                 Least Squares   F-statistic:                     108.1\n",
       "Date:                Thu, 24 Aug 2023   Prob (F-statistic):          6.72e-135\n",
       "Time:                        22:15:26   Log-Likelihood:                -1498.8\n",
       "No. Observations:                 506   AIC:                             3026.\n",
       "Df Residuals:                     492   BIC:                             3085.\n",
       "Df Model:                          13                                         \n",
       "Covariance Type:            nonrobust                                         \n",
       "==============================================================================\n",
       "                 coef    std err          t      P>|t|      [0.025      0.975]\n",
       "------------------------------------------------------------------------------\n",
       "Intercept     36.4595      5.103      7.144      0.000      26.432      46.487\n",
       "crim          -0.1080      0.033     -3.287      0.001      -0.173      -0.043\n",
       "zn             0.0464      0.014      3.382      0.001       0.019       0.073\n",
       "indus          0.0206      0.061      0.334      0.738      -0.100       0.141\n",
       "chas           2.6867      0.862      3.118      0.002       0.994       4.380\n",
       "nox          -17.7666      3.820     -4.651      0.000     -25.272     -10.262\n",
       "rm             3.8099      0.418      9.116      0.000       2.989       4.631\n",
       "age            0.0007      0.013      0.052      0.958      -0.025       0.027\n",
       "dis           -1.4756      0.199     -7.398      0.000      -1.867      -1.084\n",
       "rad            0.3060      0.066      4.613      0.000       0.176       0.436\n",
       "tax           -0.0123      0.004     -3.280      0.001      -0.020      -0.005\n",
       "ptratio       -0.9527      0.131     -7.283      0.000      -1.210      -0.696\n",
       "black          0.0093      0.003      3.467      0.001       0.004       0.015\n",
       "lstat         -0.5248      0.051    -10.347      0.000      -0.624      -0.425\n",
       "==============================================================================\n",
       "Omnibus:                      178.041   Durbin-Watson:                   1.078\n",
       "Prob(Omnibus):                  0.000   Jarque-Bera (JB):              783.126\n",
       "Skew:                           1.521   Prob(JB):                    8.84e-171\n",
       "Kurtosis:                       8.281   Cond. No.                     1.51e+04\n",
       "==============================================================================\n",
       "\n",
       "Notes:\n",
       "[1] Standard Errors assume that the covariance matrix of the errors is correctly specified.\n",
       "[2] The condition number is large, 1.51e+04. This might indicate that there are\n",
       "strong multicollinearity or other numerical problems.\n",
       "\"\"\""
      ]
     },
     "execution_count": 62,
     "metadata": {},
     "output_type": "execute_result"
    }
   ],
   "source": [
    "# OLS(Ordinary Least Squares) : 가장 기본적인 결정롞적 선형 회귀 방법.\n",
    "# 잒차제곱합(RSS:Residual Sum of Squares)를 최소화하는 가중치 벡터를 행렬 미분으로 구하는 방법 \n",
    "# formula=formula : 원본에서 medv feature를 제외핚 상태\n",
    "model_boston = smf.ols(formula=formula, data=boston_df).fit()\n",
    "model_boston.summary()\n"
   ]
  },
  {
   "cell_type": "code",
   "execution_count": 63,
   "id": "744e0bad",
   "metadata": {},
   "outputs": [
    {
     "data": {
      "text/html": [
       "<table class=\"simpletable\">\n",
       "<caption>OLS Regression Results</caption>\n",
       "<tr>\n",
       "  <th>Dep. Variable:</th>          <td>medv</td>       <th>  R-squared (uncentered):</th>      <td>   0.932</td> \n",
       "</tr>\n",
       "<tr>\n",
       "  <th>Model:</th>                   <td>OLS</td>       <th>  Adj. R-squared (uncentered):</th> <td>   0.931</td> \n",
       "</tr>\n",
       "<tr>\n",
       "  <th>Method:</th>             <td>Least Squares</td>  <th>  F-statistic:       </th>          <td>   1363.</td> \n",
       "</tr>\n",
       "<tr>\n",
       "  <th>Date:</th>             <td>Thu, 24 Aug 2023</td> <th>  Prob (F-statistic):</th>          <td>5.05e-289</td>\n",
       "</tr>\n",
       "<tr>\n",
       "  <th>Time:</th>                 <td>22:19:19</td>     <th>  Log-Likelihood:    </th>          <td> -1654.6</td> \n",
       "</tr>\n",
       "<tr>\n",
       "  <th>No. Observations:</th>      <td>   506</td>      <th>  AIC:               </th>          <td>   3319.</td> \n",
       "</tr>\n",
       "<tr>\n",
       "  <th>Df Residuals:</th>          <td>   501</td>      <th>  BIC:               </th>          <td>   3340.</td> \n",
       "</tr>\n",
       "<tr>\n",
       "  <th>Df Model:</th>              <td>     5</td>      <th>                     </th>              <td> </td>    \n",
       "</tr>\n",
       "<tr>\n",
       "  <th>Covariance Type:</th>      <td>nonrobust</td>    <th>                     </th>              <td> </td>    \n",
       "</tr>\n",
       "</table>\n",
       "<table class=\"simpletable\">\n",
       "<tr>\n",
       "    <td></td>      <th>coef</th>     <th>std err</th>      <th>t</th>      <th>P>|t|</th>  <th>[0.025</th>    <th>0.975]</th>  \n",
       "</tr>\n",
       "<tr>\n",
       "  <th>rad</th>  <td>   -0.2183</td> <td>    0.037</td> <td>   -5.924</td> <td> 0.000</td> <td>   -0.291</td> <td>   -0.146</td>\n",
       "</tr>\n",
       "<tr>\n",
       "  <th>zn</th>   <td>    0.0161</td> <td>    0.015</td> <td>    1.056</td> <td> 0.291</td> <td>   -0.014</td> <td>    0.046</td>\n",
       "</tr>\n",
       "<tr>\n",
       "  <th>rm</th>   <td>    4.7232</td> <td>    0.147</td> <td>   32.166</td> <td> 0.000</td> <td>    4.435</td> <td>    5.012</td>\n",
       "</tr>\n",
       "<tr>\n",
       "  <th>chas</th> <td>    5.6944</td> <td>    1.128</td> <td>    5.047</td> <td> 0.000</td> <td>    3.478</td> <td>    7.911</td>\n",
       "</tr>\n",
       "<tr>\n",
       "  <th>age</th>  <td>   -0.0792</td> <td>    0.012</td> <td>   -6.358</td> <td> 0.000</td> <td>   -0.104</td> <td>   -0.055</td>\n",
       "</tr>\n",
       "</table>\n",
       "<table class=\"simpletable\">\n",
       "<tr>\n",
       "  <th>Omnibus:</th>       <td>234.375</td> <th>  Durbin-Watson:     </th> <td>   0.708</td> \n",
       "</tr>\n",
       "<tr>\n",
       "  <th>Prob(Omnibus):</th> <td> 0.000</td>  <th>  Jarque-Bera (JB):  </th> <td>1253.471</td> \n",
       "</tr>\n",
       "<tr>\n",
       "  <th>Skew:</th>          <td> 2.008</td>  <th>  Prob(JB):          </th> <td>6.49e-273</td>\n",
       "</tr>\n",
       "<tr>\n",
       "  <th>Kurtosis:</th>      <td> 9.583</td>  <th>  Cond. No.          </th> <td>    299.</td> \n",
       "</tr>\n",
       "</table><br/><br/>Notes:<br/>[1] R² is computed without centering (uncentered) since the model does not contain a constant.<br/>[2] Standard Errors assume that the covariance matrix of the errors is correctly specified."
      ],
      "text/plain": [
       "<class 'statsmodels.iolib.summary.Summary'>\n",
       "\"\"\"\n",
       "                                 OLS Regression Results                                \n",
       "=======================================================================================\n",
       "Dep. Variable:                   medv   R-squared (uncentered):                   0.932\n",
       "Model:                            OLS   Adj. R-squared (uncentered):              0.931\n",
       "Method:                 Least Squares   F-statistic:                              1363.\n",
       "Date:                Thu, 24 Aug 2023   Prob (F-statistic):                   5.05e-289\n",
       "Time:                        22:19:19   Log-Likelihood:                         -1654.6\n",
       "No. Observations:                 506   AIC:                                      3319.\n",
       "Df Residuals:                     501   BIC:                                      3340.\n",
       "Df Model:                           5                                                  \n",
       "Covariance Type:            nonrobust                                                  \n",
       "==============================================================================\n",
       "                 coef    std err          t      P>|t|      [0.025      0.975]\n",
       "------------------------------------------------------------------------------\n",
       "rad           -0.2183      0.037     -5.924      0.000      -0.291      -0.146\n",
       "zn             0.0161      0.015      1.056      0.291      -0.014       0.046\n",
       "rm             4.7232      0.147     32.166      0.000       4.435       5.012\n",
       "chas           5.6944      1.128      5.047      0.000       3.478       7.911\n",
       "age           -0.0792      0.012     -6.358      0.000      -0.104      -0.055\n",
       "==============================================================================\n",
       "Omnibus:                      234.375   Durbin-Watson:                   0.708\n",
       "Prob(Omnibus):                  0.000   Jarque-Bera (JB):             1253.471\n",
       "Skew:                           2.008   Prob(JB):                    6.49e-273\n",
       "Kurtosis:                       9.583   Cond. No.                         299.\n",
       "==============================================================================\n",
       "\n",
       "Notes:\n",
       "[1] R² is computed without centering (uncentered) since the model does not contain a constant.\n",
       "[2] Standard Errors assume that the covariance matrix of the errors is correctly specified.\n",
       "\"\"\""
      ]
     },
     "execution_count": 63,
     "metadata": {},
     "output_type": "execute_result"
    }
   ],
   "source": [
    "import statsmodels.formula.api as smf\n",
    "formula = \"medv ~ rad + zn + rm + chas + age -1\"\n",
    "model_boston2 = smf.ols(formula=formula, data=boston_df).fit() # formula : rad + zn + rm + chas + age 맊 포함\n",
    "model_boston2.summary()"
   ]
  },
  {
   "cell_type": "code",
   "execution_count": 64,
   "id": "ceec1f94",
   "metadata": {},
   "outputs": [
    {
     "data": {
      "text/plain": [
       "'medv~crim+zn+indus+chas+nox+rm+age+dis+rad+tax+ptratio+black+lstat'"
      ]
     },
     "execution_count": 64,
     "metadata": {},
     "output_type": "execute_result"
    }
   ],
   "source": [
    "import statsmodels.api as sm\n",
    "Boston = sm.datasets.get_rdataset(\"Boston\", package=\"MASS\") \n",
    "boston_df = Boston.data\n",
    "formula = \"medv~\" + \"+\".join(boston_df.iloc[:, :-1].columns) \n",
    "formula\n"
   ]
  },
  {
   "cell_type": "code",
   "execution_count": 65,
   "id": "fd004ece",
   "metadata": {},
   "outputs": [],
   "source": [
    "from patsy import dmatrices # 디자인 행렬 수행\n",
    "# boston_df에서 formula에서 정의하지 않은 요소는 y(종속변수:medv컬럼)에\n",
    "# 정의핚 요소는 X(독립변수:나머지)에 저장\n",
    "# dmatrices()를 이용해서 boston_df에서 종속변수와 독립변수를 분리하는 작업 수행 \n",
    "y, X = dmatrices(formula, boston_df, return_type=\"dataframe\")\n"
   ]
  },
  {
   "cell_type": "code",
   "execution_count": 66,
   "id": "4b3dbb26",
   "metadata": {},
   "outputs": [
    {
     "data": {
      "text/html": [
       "<div>\n",
       "<style scoped>\n",
       "    .dataframe tbody tr th:only-of-type {\n",
       "        vertical-align: middle;\n",
       "    }\n",
       "\n",
       "    .dataframe tbody tr th {\n",
       "        vertical-align: top;\n",
       "    }\n",
       "\n",
       "    .dataframe thead th {\n",
       "        text-align: right;\n",
       "    }\n",
       "</style>\n",
       "<table border=\"1\" class=\"dataframe\">\n",
       "  <thead>\n",
       "    <tr style=\"text-align: right;\">\n",
       "      <th></th>\n",
       "      <th>medv</th>\n",
       "    </tr>\n",
       "  </thead>\n",
       "  <tbody>\n",
       "    <tr>\n",
       "      <th>0</th>\n",
       "      <td>24.0</td>\n",
       "    </tr>\n",
       "    <tr>\n",
       "      <th>1</th>\n",
       "      <td>21.6</td>\n",
       "    </tr>\n",
       "    <tr>\n",
       "      <th>2</th>\n",
       "      <td>34.7</td>\n",
       "    </tr>\n",
       "    <tr>\n",
       "      <th>3</th>\n",
       "      <td>33.4</td>\n",
       "    </tr>\n",
       "    <tr>\n",
       "      <th>4</th>\n",
       "      <td>36.2</td>\n",
       "    </tr>\n",
       "    <tr>\n",
       "      <th>...</th>\n",
       "      <td>...</td>\n",
       "    </tr>\n",
       "    <tr>\n",
       "      <th>501</th>\n",
       "      <td>22.4</td>\n",
       "    </tr>\n",
       "    <tr>\n",
       "      <th>502</th>\n",
       "      <td>20.6</td>\n",
       "    </tr>\n",
       "    <tr>\n",
       "      <th>503</th>\n",
       "      <td>23.9</td>\n",
       "    </tr>\n",
       "    <tr>\n",
       "      <th>504</th>\n",
       "      <td>22.0</td>\n",
       "    </tr>\n",
       "    <tr>\n",
       "      <th>505</th>\n",
       "      <td>11.9</td>\n",
       "    </tr>\n",
       "  </tbody>\n",
       "</table>\n",
       "<p>506 rows × 1 columns</p>\n",
       "</div>"
      ],
      "text/plain": [
       "     medv\n",
       "0    24.0\n",
       "1    21.6\n",
       "2    34.7\n",
       "3    33.4\n",
       "4    36.2\n",
       "..    ...\n",
       "501  22.4\n",
       "502  20.6\n",
       "503  23.9\n",
       "504  22.0\n",
       "505  11.9\n",
       "\n",
       "[506 rows x 1 columns]"
      ]
     },
     "execution_count": 66,
     "metadata": {},
     "output_type": "execute_result"
    }
   ],
   "source": [
    "y"
   ]
  },
  {
   "cell_type": "code",
   "execution_count": 67,
   "id": "46897a6f",
   "metadata": {},
   "outputs": [
    {
     "data": {
      "text/html": [
       "<div>\n",
       "<style scoped>\n",
       "    .dataframe tbody tr th:only-of-type {\n",
       "        vertical-align: middle;\n",
       "    }\n",
       "\n",
       "    .dataframe tbody tr th {\n",
       "        vertical-align: top;\n",
       "    }\n",
       "\n",
       "    .dataframe thead th {\n",
       "        text-align: right;\n",
       "    }\n",
       "</style>\n",
       "<table border=\"1\" class=\"dataframe\">\n",
       "  <thead>\n",
       "    <tr style=\"text-align: right;\">\n",
       "      <th></th>\n",
       "      <th>Intercept</th>\n",
       "      <th>crim</th>\n",
       "      <th>zn</th>\n",
       "      <th>indus</th>\n",
       "      <th>chas</th>\n",
       "      <th>nox</th>\n",
       "      <th>rm</th>\n",
       "      <th>age</th>\n",
       "      <th>dis</th>\n",
       "      <th>rad</th>\n",
       "      <th>tax</th>\n",
       "      <th>ptratio</th>\n",
       "      <th>black</th>\n",
       "      <th>lstat</th>\n",
       "    </tr>\n",
       "  </thead>\n",
       "  <tbody>\n",
       "    <tr>\n",
       "      <th>0</th>\n",
       "      <td>1.0</td>\n",
       "      <td>0.00632</td>\n",
       "      <td>18.0</td>\n",
       "      <td>2.31</td>\n",
       "      <td>0.0</td>\n",
       "      <td>0.538</td>\n",
       "      <td>6.575</td>\n",
       "      <td>65.2</td>\n",
       "      <td>4.0900</td>\n",
       "      <td>1.0</td>\n",
       "      <td>296.0</td>\n",
       "      <td>15.3</td>\n",
       "      <td>396.90</td>\n",
       "      <td>4.98</td>\n",
       "    </tr>\n",
       "    <tr>\n",
       "      <th>1</th>\n",
       "      <td>1.0</td>\n",
       "      <td>0.02731</td>\n",
       "      <td>0.0</td>\n",
       "      <td>7.07</td>\n",
       "      <td>0.0</td>\n",
       "      <td>0.469</td>\n",
       "      <td>6.421</td>\n",
       "      <td>78.9</td>\n",
       "      <td>4.9671</td>\n",
       "      <td>2.0</td>\n",
       "      <td>242.0</td>\n",
       "      <td>17.8</td>\n",
       "      <td>396.90</td>\n",
       "      <td>9.14</td>\n",
       "    </tr>\n",
       "    <tr>\n",
       "      <th>2</th>\n",
       "      <td>1.0</td>\n",
       "      <td>0.02729</td>\n",
       "      <td>0.0</td>\n",
       "      <td>7.07</td>\n",
       "      <td>0.0</td>\n",
       "      <td>0.469</td>\n",
       "      <td>7.185</td>\n",
       "      <td>61.1</td>\n",
       "      <td>4.9671</td>\n",
       "      <td>2.0</td>\n",
       "      <td>242.0</td>\n",
       "      <td>17.8</td>\n",
       "      <td>392.83</td>\n",
       "      <td>4.03</td>\n",
       "    </tr>\n",
       "    <tr>\n",
       "      <th>3</th>\n",
       "      <td>1.0</td>\n",
       "      <td>0.03237</td>\n",
       "      <td>0.0</td>\n",
       "      <td>2.18</td>\n",
       "      <td>0.0</td>\n",
       "      <td>0.458</td>\n",
       "      <td>6.998</td>\n",
       "      <td>45.8</td>\n",
       "      <td>6.0622</td>\n",
       "      <td>3.0</td>\n",
       "      <td>222.0</td>\n",
       "      <td>18.7</td>\n",
       "      <td>394.63</td>\n",
       "      <td>2.94</td>\n",
       "    </tr>\n",
       "    <tr>\n",
       "      <th>4</th>\n",
       "      <td>1.0</td>\n",
       "      <td>0.06905</td>\n",
       "      <td>0.0</td>\n",
       "      <td>2.18</td>\n",
       "      <td>0.0</td>\n",
       "      <td>0.458</td>\n",
       "      <td>7.147</td>\n",
       "      <td>54.2</td>\n",
       "      <td>6.0622</td>\n",
       "      <td>3.0</td>\n",
       "      <td>222.0</td>\n",
       "      <td>18.7</td>\n",
       "      <td>396.90</td>\n",
       "      <td>5.33</td>\n",
       "    </tr>\n",
       "    <tr>\n",
       "      <th>...</th>\n",
       "      <td>...</td>\n",
       "      <td>...</td>\n",
       "      <td>...</td>\n",
       "      <td>...</td>\n",
       "      <td>...</td>\n",
       "      <td>...</td>\n",
       "      <td>...</td>\n",
       "      <td>...</td>\n",
       "      <td>...</td>\n",
       "      <td>...</td>\n",
       "      <td>...</td>\n",
       "      <td>...</td>\n",
       "      <td>...</td>\n",
       "      <td>...</td>\n",
       "    </tr>\n",
       "    <tr>\n",
       "      <th>501</th>\n",
       "      <td>1.0</td>\n",
       "      <td>0.06263</td>\n",
       "      <td>0.0</td>\n",
       "      <td>11.93</td>\n",
       "      <td>0.0</td>\n",
       "      <td>0.573</td>\n",
       "      <td>6.593</td>\n",
       "      <td>69.1</td>\n",
       "      <td>2.4786</td>\n",
       "      <td>1.0</td>\n",
       "      <td>273.0</td>\n",
       "      <td>21.0</td>\n",
       "      <td>391.99</td>\n",
       "      <td>9.67</td>\n",
       "    </tr>\n",
       "    <tr>\n",
       "      <th>502</th>\n",
       "      <td>1.0</td>\n",
       "      <td>0.04527</td>\n",
       "      <td>0.0</td>\n",
       "      <td>11.93</td>\n",
       "      <td>0.0</td>\n",
       "      <td>0.573</td>\n",
       "      <td>6.120</td>\n",
       "      <td>76.7</td>\n",
       "      <td>2.2875</td>\n",
       "      <td>1.0</td>\n",
       "      <td>273.0</td>\n",
       "      <td>21.0</td>\n",
       "      <td>396.90</td>\n",
       "      <td>9.08</td>\n",
       "    </tr>\n",
       "    <tr>\n",
       "      <th>503</th>\n",
       "      <td>1.0</td>\n",
       "      <td>0.06076</td>\n",
       "      <td>0.0</td>\n",
       "      <td>11.93</td>\n",
       "      <td>0.0</td>\n",
       "      <td>0.573</td>\n",
       "      <td>6.976</td>\n",
       "      <td>91.0</td>\n",
       "      <td>2.1675</td>\n",
       "      <td>1.0</td>\n",
       "      <td>273.0</td>\n",
       "      <td>21.0</td>\n",
       "      <td>396.90</td>\n",
       "      <td>5.64</td>\n",
       "    </tr>\n",
       "    <tr>\n",
       "      <th>504</th>\n",
       "      <td>1.0</td>\n",
       "      <td>0.10959</td>\n",
       "      <td>0.0</td>\n",
       "      <td>11.93</td>\n",
       "      <td>0.0</td>\n",
       "      <td>0.573</td>\n",
       "      <td>6.794</td>\n",
       "      <td>89.3</td>\n",
       "      <td>2.3889</td>\n",
       "      <td>1.0</td>\n",
       "      <td>273.0</td>\n",
       "      <td>21.0</td>\n",
       "      <td>393.45</td>\n",
       "      <td>6.48</td>\n",
       "    </tr>\n",
       "    <tr>\n",
       "      <th>505</th>\n",
       "      <td>1.0</td>\n",
       "      <td>0.04741</td>\n",
       "      <td>0.0</td>\n",
       "      <td>11.93</td>\n",
       "      <td>0.0</td>\n",
       "      <td>0.573</td>\n",
       "      <td>6.030</td>\n",
       "      <td>80.8</td>\n",
       "      <td>2.5050</td>\n",
       "      <td>1.0</td>\n",
       "      <td>273.0</td>\n",
       "      <td>21.0</td>\n",
       "      <td>396.90</td>\n",
       "      <td>7.88</td>\n",
       "    </tr>\n",
       "  </tbody>\n",
       "</table>\n",
       "<p>506 rows × 14 columns</p>\n",
       "</div>"
      ],
      "text/plain": [
       "     Intercept     crim    zn  indus  chas    nox     rm   age     dis  rad  \\\n",
       "0          1.0  0.00632  18.0   2.31   0.0  0.538  6.575  65.2  4.0900  1.0   \n",
       "1          1.0  0.02731   0.0   7.07   0.0  0.469  6.421  78.9  4.9671  2.0   \n",
       "2          1.0  0.02729   0.0   7.07   0.0  0.469  7.185  61.1  4.9671  2.0   \n",
       "3          1.0  0.03237   0.0   2.18   0.0  0.458  6.998  45.8  6.0622  3.0   \n",
       "4          1.0  0.06905   0.0   2.18   0.0  0.458  7.147  54.2  6.0622  3.0   \n",
       "..         ...      ...   ...    ...   ...    ...    ...   ...     ...  ...   \n",
       "501        1.0  0.06263   0.0  11.93   0.0  0.573  6.593  69.1  2.4786  1.0   \n",
       "502        1.0  0.04527   0.0  11.93   0.0  0.573  6.120  76.7  2.2875  1.0   \n",
       "503        1.0  0.06076   0.0  11.93   0.0  0.573  6.976  91.0  2.1675  1.0   \n",
       "504        1.0  0.10959   0.0  11.93   0.0  0.573  6.794  89.3  2.3889  1.0   \n",
       "505        1.0  0.04741   0.0  11.93   0.0  0.573  6.030  80.8  2.5050  1.0   \n",
       "\n",
       "       tax  ptratio   black  lstat  \n",
       "0    296.0     15.3  396.90   4.98  \n",
       "1    242.0     17.8  396.90   9.14  \n",
       "2    242.0     17.8  392.83   4.03  \n",
       "3    222.0     18.7  394.63   2.94  \n",
       "4    222.0     18.7  396.90   5.33  \n",
       "..     ...      ...     ...    ...  \n",
       "501  273.0     21.0  391.99   9.67  \n",
       "502  273.0     21.0  396.90   9.08  \n",
       "503  273.0     21.0  396.90   5.64  \n",
       "504  273.0     21.0  393.45   6.48  \n",
       "505  273.0     21.0  396.90   7.88  \n",
       "\n",
       "[506 rows x 14 columns]"
      ]
     },
     "execution_count": 67,
     "metadata": {},
     "output_type": "execute_result"
    }
   ],
   "source": [
    "X"
   ]
  },
  {
   "cell_type": "markdown",
   "id": "e762bece",
   "metadata": {},
   "source": [
    "# VIF Factor의 값이 10보다큰 값들은 상관관계(?)가 너무 높아서 다른 독립변수들에 역할을 저해하게 된다\n",
    "## 따라서 독립변수가 많을 경우 VIF값들이 큰 독립변수를 제거해주는것이 바람직하다"
   ]
  },
  {
   "cell_type": "code",
   "execution_count": 69,
   "id": "d630280d",
   "metadata": {},
   "outputs": [],
   "source": [
    "import pandas as pd \n",
    "vif = pd.DataFrame()"
   ]
  },
  {
   "cell_type": "code",
   "execution_count": 73,
   "id": "c8314268",
   "metadata": {},
   "outputs": [
    {
     "data": {
      "text/html": [
       "<div>\n",
       "<style scoped>\n",
       "    .dataframe tbody tr th:only-of-type {\n",
       "        vertical-align: middle;\n",
       "    }\n",
       "\n",
       "    .dataframe tbody tr th {\n",
       "        vertical-align: top;\n",
       "    }\n",
       "\n",
       "    .dataframe thead th {\n",
       "        text-align: right;\n",
       "    }\n",
       "</style>\n",
       "<table border=\"1\" class=\"dataframe\">\n",
       "  <thead>\n",
       "    <tr style=\"text-align: right;\">\n",
       "      <th></th>\n",
       "      <th>VIF Factor</th>\n",
       "      <th>features</th>\n",
       "    </tr>\n",
       "  </thead>\n",
       "  <tbody>\n",
       "    <tr>\n",
       "      <th>0</th>\n",
       "      <td>585.265238</td>\n",
       "      <td>Intercept</td>\n",
       "    </tr>\n",
       "    <tr>\n",
       "      <th>1</th>\n",
       "      <td>1.792192</td>\n",
       "      <td>crim</td>\n",
       "    </tr>\n",
       "    <tr>\n",
       "      <th>2</th>\n",
       "      <td>2.298758</td>\n",
       "      <td>zn</td>\n",
       "    </tr>\n",
       "    <tr>\n",
       "      <th>3</th>\n",
       "      <td>3.991596</td>\n",
       "      <td>indus</td>\n",
       "    </tr>\n",
       "    <tr>\n",
       "      <th>4</th>\n",
       "      <td>1.073995</td>\n",
       "      <td>chas</td>\n",
       "    </tr>\n",
       "    <tr>\n",
       "      <th>5</th>\n",
       "      <td>4.393720</td>\n",
       "      <td>nox</td>\n",
       "    </tr>\n",
       "    <tr>\n",
       "      <th>6</th>\n",
       "      <td>1.933744</td>\n",
       "      <td>rm</td>\n",
       "    </tr>\n",
       "    <tr>\n",
       "      <th>7</th>\n",
       "      <td>3.100826</td>\n",
       "      <td>age</td>\n",
       "    </tr>\n",
       "    <tr>\n",
       "      <th>8</th>\n",
       "      <td>3.955945</td>\n",
       "      <td>dis</td>\n",
       "    </tr>\n",
       "    <tr>\n",
       "      <th>9</th>\n",
       "      <td>7.484496</td>\n",
       "      <td>rad</td>\n",
       "    </tr>\n",
       "    <tr>\n",
       "      <th>10</th>\n",
       "      <td>9.008554</td>\n",
       "      <td>tax</td>\n",
       "    </tr>\n",
       "    <tr>\n",
       "      <th>11</th>\n",
       "      <td>1.799084</td>\n",
       "      <td>ptratio</td>\n",
       "    </tr>\n",
       "    <tr>\n",
       "      <th>12</th>\n",
       "      <td>1.348521</td>\n",
       "      <td>black</td>\n",
       "    </tr>\n",
       "    <tr>\n",
       "      <th>13</th>\n",
       "      <td>2.941491</td>\n",
       "      <td>lstat</td>\n",
       "    </tr>\n",
       "  </tbody>\n",
       "</table>\n",
       "</div>"
      ],
      "text/plain": [
       "    VIF Factor   features\n",
       "0   585.265238  Intercept\n",
       "1     1.792192       crim\n",
       "2     2.298758         zn\n",
       "3     3.991596      indus\n",
       "4     1.073995       chas\n",
       "5     4.393720        nox\n",
       "6     1.933744         rm\n",
       "7     3.100826        age\n",
       "8     3.955945        dis\n",
       "9     7.484496        rad\n",
       "10    9.008554        tax\n",
       "11    1.799084    ptratio\n",
       "12    1.348521      black\n",
       "13    2.941491      lstat"
      ]
     },
     "execution_count": 73,
     "metadata": {},
     "output_type": "execute_result"
    }
   ],
   "source": [
    "# variance_inflation_factor() : VIF 계산 함수\n",
    "from statsmodels.stats.outliers_influence import variance_inflation_factor\n",
    "vif[\"VIF Factor\"] = [variance_inflation_factor(X.values, i) for i in range(X.shape[1])]\n",
    "vif[\"features\"] = X.columns # X.columns : boston_df의 컬럼 이름 리스트 \n",
    "vif"
   ]
  },
  {
   "cell_type": "code",
   "execution_count": 74,
   "id": "a4233a6b",
   "metadata": {},
   "outputs": [],
   "source": [
    "def get_vif(formula, df):\n",
    "    from patsy import dmatrices\n",
    "    y, X = dmatrices(formula, df, return_type=\"dataframe\")\n",
    "    import pandas as pd\n",
    "    vif = pd.DataFrame()\n",
    "    from statsmodels.stats.outliers_influence import variance_inflation_factor \n",
    "    vif[\"VIF Factor\"] = [variance_inflation_factor(X.values, i)for i in range(X.shape[1])]\n",
    "    vif[\"features\"] = X.columns\n",
    "    return vif"
   ]
  },
  {
   "cell_type": "code",
   "execution_count": 75,
   "id": "b46c1c5c",
   "metadata": {},
   "outputs": [
    {
     "name": "stdout",
     "output_type": "stream",
     "text": [
      "medv~crim+zn+indus+chas+nox+rm+age+dis+rad+tax+ptratio+black+lstat-1\n"
     ]
    },
    {
     "data": {
      "text/html": [
       "<div>\n",
       "<style scoped>\n",
       "    .dataframe tbody tr th:only-of-type {\n",
       "        vertical-align: middle;\n",
       "    }\n",
       "\n",
       "    .dataframe tbody tr th {\n",
       "        vertical-align: top;\n",
       "    }\n",
       "\n",
       "    .dataframe thead th {\n",
       "        text-align: right;\n",
       "    }\n",
       "</style>\n",
       "<table border=\"1\" class=\"dataframe\">\n",
       "  <thead>\n",
       "    <tr style=\"text-align: right;\">\n",
       "      <th></th>\n",
       "      <th>VIF Factor</th>\n",
       "      <th>features</th>\n",
       "    </tr>\n",
       "  </thead>\n",
       "  <tbody>\n",
       "    <tr>\n",
       "      <th>0</th>\n",
       "      <td>2.100373</td>\n",
       "      <td>crim</td>\n",
       "    </tr>\n",
       "    <tr>\n",
       "      <th>1</th>\n",
       "      <td>2.844013</td>\n",
       "      <td>zn</td>\n",
       "    </tr>\n",
       "    <tr>\n",
       "      <th>2</th>\n",
       "      <td>14.485758</td>\n",
       "      <td>indus</td>\n",
       "    </tr>\n",
       "    <tr>\n",
       "      <th>3</th>\n",
       "      <td>1.152952</td>\n",
       "      <td>chas</td>\n",
       "    </tr>\n",
       "    <tr>\n",
       "      <th>4</th>\n",
       "      <td>73.894947</td>\n",
       "      <td>nox</td>\n",
       "    </tr>\n",
       "    <tr>\n",
       "      <th>5</th>\n",
       "      <td>77.948283</td>\n",
       "      <td>rm</td>\n",
       "    </tr>\n",
       "    <tr>\n",
       "      <th>6</th>\n",
       "      <td>21.386850</td>\n",
       "      <td>age</td>\n",
       "    </tr>\n",
       "    <tr>\n",
       "      <th>7</th>\n",
       "      <td>14.699652</td>\n",
       "      <td>dis</td>\n",
       "    </tr>\n",
       "    <tr>\n",
       "      <th>8</th>\n",
       "      <td>15.167725</td>\n",
       "      <td>rad</td>\n",
       "    </tr>\n",
       "    <tr>\n",
       "      <th>9</th>\n",
       "      <td>61.227274</td>\n",
       "      <td>tax</td>\n",
       "    </tr>\n",
       "    <tr>\n",
       "      <th>10</th>\n",
       "      <td>85.029547</td>\n",
       "      <td>ptratio</td>\n",
       "    </tr>\n",
       "    <tr>\n",
       "      <th>11</th>\n",
       "      <td>20.104943</td>\n",
       "      <td>black</td>\n",
       "    </tr>\n",
       "    <tr>\n",
       "      <th>12</th>\n",
       "      <td>11.102025</td>\n",
       "      <td>lstat</td>\n",
       "    </tr>\n",
       "  </tbody>\n",
       "</table>\n",
       "</div>"
      ],
      "text/plain": [
       "    VIF Factor features\n",
       "0     2.100373     crim\n",
       "1     2.844013       zn\n",
       "2    14.485758    indus\n",
       "3     1.152952     chas\n",
       "4    73.894947      nox\n",
       "5    77.948283       rm\n",
       "6    21.386850      age\n",
       "7    14.699652      dis\n",
       "8    15.167725      rad\n",
       "9    61.227274      tax\n",
       "10   85.029547  ptratio\n",
       "11   20.104943    black\n",
       "12   11.102025    lstat"
      ]
     },
     "execution_count": 75,
     "metadata": {},
     "output_type": "execute_result"
    }
   ],
   "source": [
    "formula = \"medv~\" + \"+\".join(boston_df.iloc[:, :-1].columns) + \"-1\" \n",
    "print(formula)\n",
    "get_vif(formula, boston_df)"
   ]
  },
  {
   "cell_type": "code",
   "execution_count": 76,
   "id": "adaed921",
   "metadata": {},
   "outputs": [
    {
     "name": "stdout",
     "output_type": "stream",
     "text": [
      "medv~crim+zn+indus+chas+nox+rm+age+dis+rad+tax+black+lstat-1\n"
     ]
    },
    {
     "data": {
      "text/html": [
       "<div>\n",
       "<style scoped>\n",
       "    .dataframe tbody tr th:only-of-type {\n",
       "        vertical-align: middle;\n",
       "    }\n",
       "\n",
       "    .dataframe tbody tr th {\n",
       "        vertical-align: top;\n",
       "    }\n",
       "\n",
       "    .dataframe thead th {\n",
       "        text-align: right;\n",
       "    }\n",
       "</style>\n",
       "<table border=\"1\" class=\"dataframe\">\n",
       "  <thead>\n",
       "    <tr style=\"text-align: right;\">\n",
       "      <th></th>\n",
       "      <th>VIF Factor</th>\n",
       "      <th>features</th>\n",
       "    </tr>\n",
       "  </thead>\n",
       "  <tbody>\n",
       "    <tr>\n",
       "      <th>0</th>\n",
       "      <td>2.099345</td>\n",
       "      <td>crim</td>\n",
       "    </tr>\n",
       "    <tr>\n",
       "      <th>1</th>\n",
       "      <td>2.451624</td>\n",
       "      <td>zn</td>\n",
       "    </tr>\n",
       "    <tr>\n",
       "      <th>2</th>\n",
       "      <td>14.275283</td>\n",
       "      <td>indus</td>\n",
       "    </tr>\n",
       "    <tr>\n",
       "      <th>3</th>\n",
       "      <td>1.142167</td>\n",
       "      <td>chas</td>\n",
       "    </tr>\n",
       "    <tr>\n",
       "      <th>4</th>\n",
       "      <td>73.894171</td>\n",
       "      <td>nox</td>\n",
       "    </tr>\n",
       "    <tr>\n",
       "      <th>5</th>\n",
       "      <td>60.598846</td>\n",
       "      <td>rm</td>\n",
       "    </tr>\n",
       "    <tr>\n",
       "      <th>6</th>\n",
       "      <td>21.361234</td>\n",
       "      <td>age</td>\n",
       "    </tr>\n",
       "    <tr>\n",
       "      <th>7</th>\n",
       "      <td>12.221605</td>\n",
       "      <td>dis</td>\n",
       "    </tr>\n",
       "    <tr>\n",
       "      <th>8</th>\n",
       "      <td>15.159162</td>\n",
       "      <td>rad</td>\n",
       "    </tr>\n",
       "    <tr>\n",
       "      <th>9</th>\n",
       "      <td>59.301541</td>\n",
       "      <td>tax</td>\n",
       "    </tr>\n",
       "    <tr>\n",
       "      <th>10</th>\n",
       "      <td>18.614751</td>\n",
       "      <td>black</td>\n",
       "    </tr>\n",
       "    <tr>\n",
       "      <th>11</th>\n",
       "      <td>10.138324</td>\n",
       "      <td>lstat</td>\n",
       "    </tr>\n",
       "  </tbody>\n",
       "</table>\n",
       "</div>"
      ],
      "text/plain": [
       "    VIF Factor features\n",
       "0     2.099345     crim\n",
       "1     2.451624       zn\n",
       "2    14.275283    indus\n",
       "3     1.142167     chas\n",
       "4    73.894171      nox\n",
       "5    60.598846       rm\n",
       "6    21.361234      age\n",
       "7    12.221605      dis\n",
       "8    15.159162      rad\n",
       "9    59.301541      tax\n",
       "10   18.614751    black\n",
       "11   10.138324    lstat"
      ]
     },
     "execution_count": 76,
     "metadata": {},
     "output_type": "execute_result"
    }
   ],
   "source": [
    "formula = \"medv~crim+zn+indus+chas+nox+rm+age+dis+rad+tax+black+lstat-1\" \n",
    "print(formula)\n",
    "get_vif(formula, boston_df)"
   ]
  },
  {
   "cell_type": "code",
   "execution_count": 78,
   "id": "15b26cec",
   "metadata": {},
   "outputs": [
    {
     "name": "stdout",
     "output_type": "stream",
     "text": [
      "medv~crim+zn+indus+chas+rm+age+dis+rad+tax+black+lstat-1\n"
     ]
    },
    {
     "data": {
      "text/html": [
       "<div>\n",
       "<style scoped>\n",
       "    .dataframe tbody tr th:only-of-type {\n",
       "        vertical-align: middle;\n",
       "    }\n",
       "\n",
       "    .dataframe tbody tr th {\n",
       "        vertical-align: top;\n",
       "    }\n",
       "\n",
       "    .dataframe thead th {\n",
       "        text-align: right;\n",
       "    }\n",
       "</style>\n",
       "<table border=\"1\" class=\"dataframe\">\n",
       "  <thead>\n",
       "    <tr style=\"text-align: right;\">\n",
       "      <th></th>\n",
       "      <th>VIF Factor</th>\n",
       "      <th>features</th>\n",
       "    </tr>\n",
       "  </thead>\n",
       "  <tbody>\n",
       "    <tr>\n",
       "      <th>0</th>\n",
       "      <td>2.097537</td>\n",
       "      <td>crim</td>\n",
       "    </tr>\n",
       "    <tr>\n",
       "      <th>1</th>\n",
       "      <td>2.449661</td>\n",
       "      <td>zn</td>\n",
       "    </tr>\n",
       "    <tr>\n",
       "      <th>2</th>\n",
       "      <td>13.150904</td>\n",
       "      <td>indus</td>\n",
       "    </tr>\n",
       "    <tr>\n",
       "      <th>3</th>\n",
       "      <td>1.138277</td>\n",
       "      <td>chas</td>\n",
       "    </tr>\n",
       "    <tr>\n",
       "      <th>4</th>\n",
       "      <td>41.406746</td>\n",
       "      <td>rm</td>\n",
       "    </tr>\n",
       "    <tr>\n",
       "      <th>5</th>\n",
       "      <td>19.889623</td>\n",
       "      <td>age</td>\n",
       "    </tr>\n",
       "    <tr>\n",
       "      <th>6</th>\n",
       "      <td>12.032952</td>\n",
       "      <td>dis</td>\n",
       "    </tr>\n",
       "    <tr>\n",
       "      <th>7</th>\n",
       "      <td>15.155012</td>\n",
       "      <td>rad</td>\n",
       "    </tr>\n",
       "    <tr>\n",
       "      <th>8</th>\n",
       "      <td>57.720347</td>\n",
       "      <td>tax</td>\n",
       "    </tr>\n",
       "    <tr>\n",
       "      <th>9</th>\n",
       "      <td>18.396072</td>\n",
       "      <td>black</td>\n",
       "    </tr>\n",
       "    <tr>\n",
       "      <th>10</th>\n",
       "      <td>9.207840</td>\n",
       "      <td>lstat</td>\n",
       "    </tr>\n",
       "  </tbody>\n",
       "</table>\n",
       "</div>"
      ],
      "text/plain": [
       "    VIF Factor features\n",
       "0     2.097537     crim\n",
       "1     2.449661       zn\n",
       "2    13.150904    indus\n",
       "3     1.138277     chas\n",
       "4    41.406746       rm\n",
       "5    19.889623      age\n",
       "6    12.032952      dis\n",
       "7    15.155012      rad\n",
       "8    57.720347      tax\n",
       "9    18.396072    black\n",
       "10    9.207840    lstat"
      ]
     },
     "execution_count": 78,
     "metadata": {},
     "output_type": "execute_result"
    }
   ],
   "source": [
    "formula = \"medv~crim+zn+indus+chas+rm+age+dis+rad+tax+black+lstat-1\" \n",
    "print(formula)\n",
    "get_vif(formula, boston_df)"
   ]
  },
  {
   "cell_type": "code",
   "execution_count": 79,
   "id": "c209be15",
   "metadata": {},
   "outputs": [
    {
     "name": "stdout",
     "output_type": "stream",
     "text": [
      "medv~crim+zn+indus+chas+rm+age+dis+rad+black+lstat-1\n"
     ]
    },
    {
     "data": {
      "text/html": [
       "<div>\n",
       "<style scoped>\n",
       "    .dataframe tbody tr th:only-of-type {\n",
       "        vertical-align: middle;\n",
       "    }\n",
       "\n",
       "    .dataframe tbody tr th {\n",
       "        vertical-align: top;\n",
       "    }\n",
       "\n",
       "    .dataframe thead th {\n",
       "        text-align: right;\n",
       "    }\n",
       "</style>\n",
       "<table border=\"1\" class=\"dataframe\">\n",
       "  <thead>\n",
       "    <tr style=\"text-align: right;\">\n",
       "      <th></th>\n",
       "      <th>VIF Factor</th>\n",
       "      <th>features</th>\n",
       "    </tr>\n",
       "  </thead>\n",
       "  <tbody>\n",
       "    <tr>\n",
       "      <th>0</th>\n",
       "      <td>2.097466</td>\n",
       "      <td>crim</td>\n",
       "    </tr>\n",
       "    <tr>\n",
       "      <th>1</th>\n",
       "      <td>2.375219</td>\n",
       "      <td>zn</td>\n",
       "    </tr>\n",
       "    <tr>\n",
       "      <th>2</th>\n",
       "      <td>9.290080</td>\n",
       "      <td>indus</td>\n",
       "    </tr>\n",
       "    <tr>\n",
       "      <th>3</th>\n",
       "      <td>1.118613</td>\n",
       "      <td>chas</td>\n",
       "    </tr>\n",
       "    <tr>\n",
       "      <th>4</th>\n",
       "      <td>39.069063</td>\n",
       "      <td>rm</td>\n",
       "    </tr>\n",
       "    <tr>\n",
       "      <th>5</th>\n",
       "      <td>19.780944</td>\n",
       "      <td>age</td>\n",
       "    </tr>\n",
       "    <tr>\n",
       "      <th>6</th>\n",
       "      <td>11.817803</td>\n",
       "      <td>dis</td>\n",
       "    </tr>\n",
       "    <tr>\n",
       "      <th>7</th>\n",
       "      <td>4.965633</td>\n",
       "      <td>rad</td>\n",
       "    </tr>\n",
       "    <tr>\n",
       "      <th>8</th>\n",
       "      <td>18.289917</td>\n",
       "      <td>black</td>\n",
       "    </tr>\n",
       "    <tr>\n",
       "      <th>9</th>\n",
       "      <td>9.046248</td>\n",
       "      <td>lstat</td>\n",
       "    </tr>\n",
       "  </tbody>\n",
       "</table>\n",
       "</div>"
      ],
      "text/plain": [
       "   VIF Factor features\n",
       "0    2.097466     crim\n",
       "1    2.375219       zn\n",
       "2    9.290080    indus\n",
       "3    1.118613     chas\n",
       "4   39.069063       rm\n",
       "5   19.780944      age\n",
       "6   11.817803      dis\n",
       "7    4.965633      rad\n",
       "8   18.289917    black\n",
       "9    9.046248    lstat"
      ]
     },
     "execution_count": 79,
     "metadata": {},
     "output_type": "execute_result"
    }
   ],
   "source": [
    "formula = \"medv~crim+zn+indus+chas+rm+age+dis+rad+black+lstat-1\" \n",
    "print(formula)\n",
    "get_vif(formula, boston_df)"
   ]
  },
  {
   "cell_type": "code",
   "execution_count": 80,
   "id": "32d39326",
   "metadata": {},
   "outputs": [
    {
     "name": "stdout",
     "output_type": "stream",
     "text": [
      "medv~crim+zn+indus+chas+age+dis+rad+black+lstat-1\n"
     ]
    },
    {
     "data": {
      "text/html": [
       "<div>\n",
       "<style scoped>\n",
       "    .dataframe tbody tr th:only-of-type {\n",
       "        vertical-align: middle;\n",
       "    }\n",
       "\n",
       "    .dataframe tbody tr th {\n",
       "        vertical-align: top;\n",
       "    }\n",
       "\n",
       "    .dataframe thead th {\n",
       "        text-align: right;\n",
       "    }\n",
       "</style>\n",
       "<table border=\"1\" class=\"dataframe\">\n",
       "  <thead>\n",
       "    <tr style=\"text-align: right;\">\n",
       "      <th></th>\n",
       "      <th>VIF Factor</th>\n",
       "      <th>features</th>\n",
       "    </tr>\n",
       "  </thead>\n",
       "  <tbody>\n",
       "    <tr>\n",
       "      <th>0</th>\n",
       "      <td>2.095367</td>\n",
       "      <td>crim</td>\n",
       "    </tr>\n",
       "    <tr>\n",
       "      <th>1</th>\n",
       "      <td>2.334763</td>\n",
       "      <td>zn</td>\n",
       "    </tr>\n",
       "    <tr>\n",
       "      <th>2</th>\n",
       "      <td>9.016142</td>\n",
       "      <td>indus</td>\n",
       "    </tr>\n",
       "    <tr>\n",
       "      <th>3</th>\n",
       "      <td>1.116229</td>\n",
       "      <td>chas</td>\n",
       "    </tr>\n",
       "    <tr>\n",
       "      <th>4</th>\n",
       "      <td>14.000758</td>\n",
       "      <td>age</td>\n",
       "    </tr>\n",
       "    <tr>\n",
       "      <th>5</th>\n",
       "      <td>8.447694</td>\n",
       "      <td>dis</td>\n",
       "    </tr>\n",
       "    <tr>\n",
       "      <th>6</th>\n",
       "      <td>4.771767</td>\n",
       "      <td>rad</td>\n",
       "    </tr>\n",
       "    <tr>\n",
       "      <th>7</th>\n",
       "      <td>13.537020</td>\n",
       "      <td>black</td>\n",
       "    </tr>\n",
       "    <tr>\n",
       "      <th>8</th>\n",
       "      <td>8.358925</td>\n",
       "      <td>lstat</td>\n",
       "    </tr>\n",
       "  </tbody>\n",
       "</table>\n",
       "</div>"
      ],
      "text/plain": [
       "   VIF Factor features\n",
       "0    2.095367     crim\n",
       "1    2.334763       zn\n",
       "2    9.016142    indus\n",
       "3    1.116229     chas\n",
       "4   14.000758      age\n",
       "5    8.447694      dis\n",
       "6    4.771767      rad\n",
       "7   13.537020    black\n",
       "8    8.358925    lstat"
      ]
     },
     "execution_count": 80,
     "metadata": {},
     "output_type": "execute_result"
    }
   ],
   "source": [
    "formula = \"medv~crim+zn+indus+chas+age+dis+rad+black+lstat-1\" \n",
    "print(formula)\n",
    "get_vif(formula, boston_df)"
   ]
  },
  {
   "cell_type": "code",
   "execution_count": 81,
   "id": "d83548e0",
   "metadata": {},
   "outputs": [
    {
     "name": "stdout",
     "output_type": "stream",
     "text": [
      "medv~crim+zn+indus+chas+dis+rad+black+lstat-1\n"
     ]
    },
    {
     "data": {
      "text/html": [
       "<div>\n",
       "<style scoped>\n",
       "    .dataframe tbody tr th:only-of-type {\n",
       "        vertical-align: middle;\n",
       "    }\n",
       "\n",
       "    .dataframe tbody tr th {\n",
       "        vertical-align: top;\n",
       "    }\n",
       "\n",
       "    .dataframe thead th {\n",
       "        text-align: right;\n",
       "    }\n",
       "</style>\n",
       "<table border=\"1\" class=\"dataframe\">\n",
       "  <thead>\n",
       "    <tr style=\"text-align: right;\">\n",
       "      <th></th>\n",
       "      <th>VIF Factor</th>\n",
       "      <th>features</th>\n",
       "    </tr>\n",
       "  </thead>\n",
       "  <tbody>\n",
       "    <tr>\n",
       "      <th>0</th>\n",
       "      <td>2.095211</td>\n",
       "      <td>crim</td>\n",
       "    </tr>\n",
       "    <tr>\n",
       "      <th>1</th>\n",
       "      <td>2.313889</td>\n",
       "      <td>zn</td>\n",
       "    </tr>\n",
       "    <tr>\n",
       "      <th>2</th>\n",
       "      <td>8.205465</td>\n",
       "      <td>indus</td>\n",
       "    </tr>\n",
       "    <tr>\n",
       "      <th>3</th>\n",
       "      <td>1.106350</td>\n",
       "      <td>chas</td>\n",
       "    </tr>\n",
       "    <tr>\n",
       "      <th>4</th>\n",
       "      <td>8.209371</td>\n",
       "      <td>dis</td>\n",
       "    </tr>\n",
       "    <tr>\n",
       "      <th>5</th>\n",
       "      <td>4.689836</td>\n",
       "      <td>rad</td>\n",
       "    </tr>\n",
       "    <tr>\n",
       "      <th>6</th>\n",
       "      <td>10.074224</td>\n",
       "      <td>black</td>\n",
       "    </tr>\n",
       "    <tr>\n",
       "      <th>7</th>\n",
       "      <td>6.856889</td>\n",
       "      <td>lstat</td>\n",
       "    </tr>\n",
       "  </tbody>\n",
       "</table>\n",
       "</div>"
      ],
      "text/plain": [
       "   VIF Factor features\n",
       "0    2.095211     crim\n",
       "1    2.313889       zn\n",
       "2    8.205465    indus\n",
       "3    1.106350     chas\n",
       "4    8.209371      dis\n",
       "5    4.689836      rad\n",
       "6   10.074224    black\n",
       "7    6.856889    lstat"
      ]
     },
     "execution_count": 81,
     "metadata": {},
     "output_type": "execute_result"
    }
   ],
   "source": [
    "formula = \"medv~crim+zn+indus+chas+dis+rad+black+lstat-1\" \n",
    "print(formula)\n",
    "get_vif(formula, boston_df)"
   ]
  },
  {
   "cell_type": "code",
   "execution_count": 82,
   "id": "fb905cee",
   "metadata": {},
   "outputs": [
    {
     "name": "stdout",
     "output_type": "stream",
     "text": [
      "medv~crim+zn+indus+chas+dis+rad+lstat-1\n"
     ]
    },
    {
     "data": {
      "text/html": [
       "<div>\n",
       "<style scoped>\n",
       "    .dataframe tbody tr th:only-of-type {\n",
       "        vertical-align: middle;\n",
       "    }\n",
       "\n",
       "    .dataframe tbody tr th {\n",
       "        vertical-align: top;\n",
       "    }\n",
       "\n",
       "    .dataframe thead th {\n",
       "        text-align: right;\n",
       "    }\n",
       "</style>\n",
       "<table border=\"1\" class=\"dataframe\">\n",
       "  <thead>\n",
       "    <tr style=\"text-align: right;\">\n",
       "      <th></th>\n",
       "      <th>VIF Factor</th>\n",
       "      <th>features</th>\n",
       "    </tr>\n",
       "  </thead>\n",
       "  <tbody>\n",
       "    <tr>\n",
       "      <th>0</th>\n",
       "      <td>2.067135</td>\n",
       "      <td>crim</td>\n",
       "    </tr>\n",
       "    <tr>\n",
       "      <th>1</th>\n",
       "      <td>2.299351</td>\n",
       "      <td>zn</td>\n",
       "    </tr>\n",
       "    <tr>\n",
       "      <th>2</th>\n",
       "      <td>6.900077</td>\n",
       "      <td>indus</td>\n",
       "    </tr>\n",
       "    <tr>\n",
       "      <th>3</th>\n",
       "      <td>1.086574</td>\n",
       "      <td>chas</td>\n",
       "    </tr>\n",
       "    <tr>\n",
       "      <th>4</th>\n",
       "      <td>3.968908</td>\n",
       "      <td>dis</td>\n",
       "    </tr>\n",
       "    <tr>\n",
       "      <th>5</th>\n",
       "      <td>4.678181</td>\n",
       "      <td>rad</td>\n",
       "    </tr>\n",
       "    <tr>\n",
       "      <th>6</th>\n",
       "      <td>6.726973</td>\n",
       "      <td>lstat</td>\n",
       "    </tr>\n",
       "  </tbody>\n",
       "</table>\n",
       "</div>"
      ],
      "text/plain": [
       "   VIF Factor features\n",
       "0    2.067135     crim\n",
       "1    2.299351       zn\n",
       "2    6.900077    indus\n",
       "3    1.086574     chas\n",
       "4    3.968908      dis\n",
       "5    4.678181      rad\n",
       "6    6.726973    lstat"
      ]
     },
     "execution_count": 82,
     "metadata": {},
     "output_type": "execute_result"
    }
   ],
   "source": [
    "formula = \"medv~crim+zn+indus+chas+dis+rad+lstat-1\" \n",
    "print(formula)\n",
    "get_vif(formula, boston_df)"
   ]
  },
  {
   "cell_type": "code",
   "execution_count": 83,
   "id": "60e3764a",
   "metadata": {},
   "outputs": [
    {
     "data": {
      "text/html": [
       "<table class=\"simpletable\">\n",
       "<caption>OLS Regression Results</caption>\n",
       "<tr>\n",
       "  <th>Dep. Variable:</th>          <td>medv</td>       <th>  R-squared (uncentered):</th>      <td>   0.822</td> \n",
       "</tr>\n",
       "<tr>\n",
       "  <th>Model:</th>                   <td>OLS</td>       <th>  Adj. R-squared (uncentered):</th> <td>   0.820</td> \n",
       "</tr>\n",
       "<tr>\n",
       "  <th>Method:</th>             <td>Least Squares</td>  <th>  F-statistic:       </th>          <td>   330.1</td> \n",
       "</tr>\n",
       "<tr>\n",
       "  <th>Date:</th>             <td>Thu, 24 Aug 2023</td> <th>  Prob (F-statistic):</th>          <td>1.03e-182</td>\n",
       "</tr>\n",
       "<tr>\n",
       "  <th>Time:</th>                 <td>22:35:25</td>     <th>  Log-Likelihood:    </th>          <td> -1895.9</td> \n",
       "</tr>\n",
       "<tr>\n",
       "  <th>No. Observations:</th>      <td>   506</td>      <th>  AIC:               </th>          <td>   3806.</td> \n",
       "</tr>\n",
       "<tr>\n",
       "  <th>Df Residuals:</th>          <td>   499</td>      <th>  BIC:               </th>          <td>   3835.</td> \n",
       "</tr>\n",
       "<tr>\n",
       "  <th>Df Model:</th>              <td>     7</td>      <th>                     </th>              <td> </td>    \n",
       "</tr>\n",
       "<tr>\n",
       "  <th>Covariance Type:</th>      <td>nonrobust</td>    <th>                     </th>              <td> </td>    \n",
       "</tr>\n",
       "</table>\n",
       "<table class=\"simpletable\">\n",
       "<tr>\n",
       "    <td></td>       <th>coef</th>     <th>std err</th>      <th>t</th>      <th>P>|t|</th>  <th>[0.025</th>    <th>0.975]</th>  \n",
       "</tr>\n",
       "<tr>\n",
       "  <th>crim</th>  <td>   -0.1840</td> <td>    0.071</td> <td>   -2.599</td> <td> 0.010</td> <td>   -0.323</td> <td>   -0.045</td>\n",
       "</tr>\n",
       "<tr>\n",
       "  <th>zn</th>    <td>    0.0529</td> <td>    0.027</td> <td>    1.970</td> <td> 0.049</td> <td>    0.000</td> <td>    0.106</td>\n",
       "</tr>\n",
       "<tr>\n",
       "  <th>indus</th> <td>    0.8391</td> <td>    0.092</td> <td>    9.098</td> <td> 0.000</td> <td>    0.658</td> <td>    1.020</td>\n",
       "</tr>\n",
       "<tr>\n",
       "  <th>chas</th>  <td>    9.1546</td> <td>    1.820</td> <td>    5.031</td> <td> 0.000</td> <td>    5.580</td> <td>   12.730</td>\n",
       "</tr>\n",
       "<tr>\n",
       "  <th>dis</th>   <td>    3.6821</td> <td>    0.211</td> <td>   17.469</td> <td> 0.000</td> <td>    3.268</td> <td>    4.096</td>\n",
       "</tr>\n",
       "<tr>\n",
       "  <th>rad</th>   <td>    0.1755</td> <td>    0.077</td> <td>    2.283</td> <td> 0.023</td> <td>    0.024</td> <td>    0.327</td>\n",
       "</tr>\n",
       "<tr>\n",
       "  <th>lstat</th> <td>   -0.3776</td> <td>    0.082</td> <td>   -4.606</td> <td> 0.000</td> <td>   -0.539</td> <td>   -0.217</td>\n",
       "</tr>\n",
       "</table>\n",
       "<table class=\"simpletable\">\n",
       "<tr>\n",
       "  <th>Omnibus:</th>       <td>94.793</td> <th>  Durbin-Watson:     </th> <td>   0.469</td>\n",
       "</tr>\n",
       "<tr>\n",
       "  <th>Prob(Omnibus):</th> <td> 0.000</td> <th>  Jarque-Bera (JB):  </th> <td> 163.764</td>\n",
       "</tr>\n",
       "<tr>\n",
       "  <th>Skew:</th>          <td> 1.110</td> <th>  Prob(JB):          </th> <td>2.75e-36</td>\n",
       "</tr>\n",
       "<tr>\n",
       "  <th>Kurtosis:</th>      <td> 4.686</td> <th>  Cond. No.          </th> <td>    107.</td>\n",
       "</tr>\n",
       "</table><br/><br/>Notes:<br/>[1] R² is computed without centering (uncentered) since the model does not contain a constant.<br/>[2] Standard Errors assume that the covariance matrix of the errors is correctly specified."
      ],
      "text/plain": [
       "<class 'statsmodels.iolib.summary.Summary'>\n",
       "\"\"\"\n",
       "                                 OLS Regression Results                                \n",
       "=======================================================================================\n",
       "Dep. Variable:                   medv   R-squared (uncentered):                   0.822\n",
       "Model:                            OLS   Adj. R-squared (uncentered):              0.820\n",
       "Method:                 Least Squares   F-statistic:                              330.1\n",
       "Date:                Thu, 24 Aug 2023   Prob (F-statistic):                   1.03e-182\n",
       "Time:                        22:35:25   Log-Likelihood:                         -1895.9\n",
       "No. Observations:                 506   AIC:                                      3806.\n",
       "Df Residuals:                     499   BIC:                                      3835.\n",
       "Df Model:                           7                                                  \n",
       "Covariance Type:            nonrobust                                                  \n",
       "==============================================================================\n",
       "                 coef    std err          t      P>|t|      [0.025      0.975]\n",
       "------------------------------------------------------------------------------\n",
       "crim          -0.1840      0.071     -2.599      0.010      -0.323      -0.045\n",
       "zn             0.0529      0.027      1.970      0.049       0.000       0.106\n",
       "indus          0.8391      0.092      9.098      0.000       0.658       1.020\n",
       "chas           9.1546      1.820      5.031      0.000       5.580      12.730\n",
       "dis            3.6821      0.211     17.469      0.000       3.268       4.096\n",
       "rad            0.1755      0.077      2.283      0.023       0.024       0.327\n",
       "lstat         -0.3776      0.082     -4.606      0.000      -0.539      -0.217\n",
       "==============================================================================\n",
       "Omnibus:                       94.793   Durbin-Watson:                   0.469\n",
       "Prob(Omnibus):                  0.000   Jarque-Bera (JB):              163.764\n",
       "Skew:                           1.110   Prob(JB):                     2.75e-36\n",
       "Kurtosis:                       4.686   Cond. No.                         107.\n",
       "==============================================================================\n",
       "\n",
       "Notes:\n",
       "[1] R² is computed without centering (uncentered) since the model does not contain a constant.\n",
       "[2] Standard Errors assume that the covariance matrix of the errors is correctly specified.\n",
       "\"\"\""
      ]
     },
     "execution_count": 83,
     "metadata": {},
     "output_type": "execute_result"
    }
   ],
   "source": [
    "import statsmodels.formula.api as smf\n",
    "\n",
    "model_boston = smf.ols(formula=formula, data=boston_df).fit() \n",
    "model_boston.summary()"
   ]
  },
  {
   "cell_type": "markdown",
   "id": "87ead302",
   "metadata": {},
   "source": [
    "# 결과적으로 P>|t|(p-value?) 값들이 모두 0.05보다 작게 나오게 되어서 좋은 분석이다."
   ]
  },
  {
   "cell_type": "code",
   "execution_count": null,
   "id": "fe4c7be2",
   "metadata": {},
   "outputs": [],
   "source": []
  }
 ],
 "metadata": {
  "kernelspec": {
   "display_name": "Python 3 (ipykernel)",
   "language": "python",
   "name": "python3"
  },
  "language_info": {
   "codemirror_mode": {
    "name": "ipython",
    "version": 3
   },
   "file_extension": ".py",
   "mimetype": "text/x-python",
   "name": "python",
   "nbconvert_exporter": "python",
   "pygments_lexer": "ipython3",
   "version": "3.7.9"
  }
 },
 "nbformat": 4,
 "nbformat_minor": 5
}
